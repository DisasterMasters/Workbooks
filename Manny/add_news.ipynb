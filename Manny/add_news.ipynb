{
 "cells": [
  {
   "cell_type": "code",
   "execution_count": 1,
   "metadata": {},
   "outputs": [],
   "source": [
    "import tweepy\n",
    "import datetime\n",
    "from email.utils import parsedate_to_datetime\n",
    "\n",
    "TWITTER_AUTH = tweepy.OAuthHandler(\n",
    "    \"ZFVyefAyg58PTdG7m8Mpe7cze\",\n",
    "    \"KyWRZ9QkiC2MiscQ7aGpl5K2lbcR3pHYFTs7SCVIyxMlVfGjw0\"\n",
    ")\n",
    "TWITTER_AUTH.set_access_token(\n",
    "    \"1041697847538638848-8J81uZBO1tMPvGHYXeVSngKuUz7Cyh\",\n",
    "    \"jGNOVDxllHhO57EaN2FVejiR7crpENStbZ7bHqwv2tYDU\"\n",
    ")\n",
    "\n",
    "api = tweepy.API(TWITTER_AUTH, parser = tweepy.parsers.JSONParser())\n",
    "\n",
    "def map_f(username):\n",
    "    try:\n",
    "        r = api.get_user(\n",
    "            username,\n",
    "            tweet_mode = \"extended\",\n",
    "            include_entities = True,\n",
    "            monitor_rate_limit = True,\n",
    "            wait_on_rate_limit = True\n",
    "        )\n",
    "        \n",
    "        retrieved_at = datetime.datetime.utcnow().replace(tzinfo = datetime.timezone.utc)\n",
    "        \n",
    "    except tweepy.TweepError:\n",
    "        return None\n",
    "    \n",
    "    r[\"retrieved_at\"] = retrieved_at\n",
    "    r[\"created_at\"] = parsedate_to_datetime(r[\"created_at\"])\n",
    "    \n",
    "    if \"status\" in r:\n",
    "        r[\"status\"][\"created_at\"] = parsedate_to_datetime(r[\"status\"][\"created_at\"])\n",
    "        \n",
    "    return r\n",
    "\n",
    "from pymongo import MongoClient\n",
    "from tqdm import tqdm\n",
    "def add_users(users):\n",
    "    \n",
    "    client = MongoClient()\n",
    "    client = MongoClient('da1.eecs.utk.edu', 27017) \n",
    "\n",
    "    collection_list = client['twitter'].collection_names() \n",
    "\n",
    "    collection_list  = [x for x in collection_list if \"User\" in x]\n",
    "    \n",
    "    def exists(user):\n",
    "        for collection in (collection_list):\n",
    "            for post in client['twitter'][collection].find({\"screen_name\":user}):  \n",
    "                return collection, post\n",
    "        return 0, 0\n",
    "    \n",
    "    \n",
    "    for key, value in tqdm(users.items()):\n",
    "        collection, document = exists(key)\n",
    "        if document == 0:\n",
    "#             while(1):\n",
    "            new_user = map_f(key)\n",
    "            print(\"new user found\")\n",
    "            if new_user != None:\n",
    "                client['twitter']['Users_MiscNews'].insert(new_user)\n",
    "#                     break\n",
    "            else:\n",
    "                print(\"error adding new user\")\n",
    "        else:\n",
    "            if 'news' in document:\n",
    "                document['is_news'] = document.pop('news')\n",
    "                client['twitter'][collection].replace_one({\"_id\": document[\"_id\"]}, document)\n",
    "\n",
    "            if 'is_news' not in document:\n",
    "                document['is_news'] = value\n",
    "                client['twitter'][collection].replace_one({\"_id\": document[\"_id\"]}, document)\n",
    "                \n"
   ]
  },
  {
   "cell_type": "code",
   "execution_count": 2,
   "metadata": {},
   "outputs": [
    {
     "name": "stderr",
     "output_type": "stream",
     "text": [
      "1430it [00:00, 6798.03it/s]"
     ]
    },
    {
     "name": "stdout",
     "output_type": "stream",
     "text": [
      "{'JeffDean': False, 'NATO4EVA3': False, 'BBCSport': False, 'marioteguh': False, 'NWS': True, 'Bass_Sick_Math': False, 'NYTScience': True, 'MirzaSania': False, 'gizmodo': True, '_dianakris': False, 'TRUGFX': False, 'TEDTalks': False, 'IkerCasillas': False, 'chancetherapper': False, 'KrisJenner': False, 'haaretzcom': True, 'AustinMahone': False, 'dpkingma': False, 'charlytopper1': False, 'phillipclabough': False, 'AllieIsTheName_': False, 'rafinhabastos': False, 'USENIXSecurity': False, 'hardmaru': False, 'OneTimeInFTC': False, 'EscamiPeter': False, 'HashKSA': False, 'girlposts': False, 'GBlack_22': True, 'ABCaustralia': True, 'Moth818': False, 'ZombieTrev5k': True, 'hutcheson_alex': False, 'DavidLuiz_4': False, 'mental_floss': True, 'barackobama': False, 'CuteEmergency': False, 'BreakingNewsUK': True, 'peoplesvote_uk': False, 'ImRo45': False, 'UTKnoxville': False, 'ForThePanda': False, 'SatiyaJewel': False, 'hillaryclinton': False, 'CMUEngineering': False, 'FarOutAkhtar': False, 'Renee_Meres': False, 'CNNEE': True, 'newyorkpost': True, 'JohnCena': False, 'aajtak': False, 'avrillavigne': False, 'PHDcomics': False, 'Anahi': False, 'paulocoelho': False, 'scarycarrieg': False, 'mckquarterly': True, 'dw_politics': False, 'ChromiumDev': False, 'cnnbrk': True, 'zkulibko': False, 'Arcteryx': False, 'freakonomics': True, 'waitwait': True, 'tejasdkulkarni': False, 'volkanikbeats': False, 'charliebyrd2': False, 'AlArabiya': True, 'TareqAlSuwaidan': False, 'RedeGlobo': False, 'BillClinton': False, 'MixtapeBeatsYo': False, 'emarketer': True, 'CarlosLoret': False, 'LucianoHuck': False, 'GitHubEducation': False, 'HRRRison': True, 'rottencloth': False, 'Penn': False, 'adampaulcoates': False, 'MarceloTas': False, 'facebook': False, 'RafaelNadal': False, 'nprpolitics': True, 'gogameguru': False, 'slashdot': True, 'spann': True, 'gadelmaleh': False, 'ChelseaFC': False, 'SpiderAnderson': False, 'cuervotinelli': False, 'PittTweet': False, 'thetimes': True, 'genekogan': False, 'pitbull': False, 'SpaceX': False, 'SwordShieldSec': False, 'ZoeSugg': False, 'sapinker': False, 'MikeDrumBeatz': False, 'Flavian45360970': False, 'CornellEng': False, 'acm_ccs': False, 'chrisalbon': False, 'DailyMirror': True, 'brian_burnette': False, 'Legendarios': False, 'UTK_Housing': False, 'megan_whaley': False, 'reuters': True, 'GoogleAI': False, 'DEADLINE': True, 'Suntimes': True, 'REI': False, 'SenSanders': False, 'THEREALDJSHAWTY': False, 'Xbox': False, 'Princeton': False, 'fastcompany': True, 'Benji3eyes': False, 'maithra_raghu': False, 'funnyordie': False, 'RachelTobac': False, 'VanderbiltU': False, 'iamsrk': False, 'ObamaWhiteHouse': False, 'Burberry': False, 'knoxdevs': False, 'Zendaya': False, 'ajaydevgn': False, 'RT_Erdogan': False, 'camerondallas': False, 'bryanwx': True, 'harvardnlp': False, 'IEEESSP': False, 'Dat_Falpal': False, 'wired': True, 'Wharton': False, 'wendycaroline_': False, 'TweetRAMALAN': False, 'AJArabic': True, 'drake': False, 'nypost': True, 'RockstarGames': False, 'Pontifex_es': False, 'Knoxstartshere': False, 'goHackRPI': False, 'KLASICS': False, 'britneyspears': False, 'bhogleharsha': False, 'codahall': False, 'MailOnline': True, 'nickiminaj': False, 'Pitty': False, 'qz': True, 'KapilSharmaK9': False, 'iTreKing': False, 'voguemagazine': False, 'RichardSocher': False, 'colesprouse': False, 'mccollsean': False, 'werevertumorro': False, 'MITSloan': False, 'jimmyfallon': False, 'lifeatgoogle': False, 'lemondefr': False, 'MarcAnthony': False, 'just_ice246': False, 'ovodyluhn': False, 'splillo': True, 'supervaledinsk1': False, 'CentralCelery': False, 'lillezlie269': False, 'wish4DonBillion': False, 'UniofOxford': False, 'jonmarkgo': False, 'RanveerOfficial': False, 'shawnmendes': False, 'splinter_news': True, 'edwardson_mia': False, 'Guaje7Villa': False, 'KathrynProciv': True, 'DrAHButler': True, 'nowthisnews': True, 'Jake_Seiber': False, 'TheHackGT': False, 'JonyBeats': False, 'danieltosh': False, 'americanalpine': False, '_youngtate58': False, 'Byoussef': False, 'DeepSpiker': False, 'julianmball': False, 'Android': False, 'FCBarcelona_es': False, 'nfl': False, 'HackIllinois': False, 'hugo_larochelle': False, 'parker0156': False, 'UTKStudentLife': False, 'RMoncier': False, 'jonathonmorgan': False, 'ColonelTribune': True, 'Riteishd': False, 'adamonzon': True, 'FunctionalKnox': False, 'stephenfry': False, 'brandohud': False, 'Jeff_Piotrowski': True, 'defcon865': False, 'DaniAlvesD2': False, 'gsoc': False, 'Tatawerneck': False, 'Asli_Jacqueline': False, 'HHShkMohd': False, 'LeoDiCaprio': False, 'volhacks': False, 'dude_bro_man_': False, 'Columbia': False, 'k8em0': False, 'mindykaling': False, 'syhw': False, 'mikb0b': False, 'Emma_walker18': False, 'Jayripleem10': False, 'actuallynph': False, 'SimonCowell': False, 'jesala16': False, 'Reuters': True, 'BernadetteWoods': True, 'PlayStation': False, 'pgbovine': False, 'Metro_TV': False, 'UMich': False, 'TwitterGov': False, 'elasri_layla': False, 'Revolution_UC': False, 'big_picture': True, 'eminem': False, 'IsaacEwers': False, 'iamKritical': False, 'malwareunicorn': False, 'googlestudents': False, 'reveal': True, 'ReedTimmerAccu': True, 'tdietterich': False, 'CHAYANNEMUSIC': False, 'knoxdotnet': False, 'msnbc_breaking': True, 'aamir_khan': False, 'ayyyesIAN': False, 'mammut': False, 'maria_jennifer0': False, '_Jeremy_B14': False, 'serenawilliams': False, 'juniorbachchan': False, 'Mascherano': False, 'adolwyn': True, 'basuki_btp': False, 'pink': False, 'gusttavo_lima': False, 'jaredthecoder': False, 'billgates': False, 'CMYLMZ': False, 'outsidemagazine': False, 'KathieDello': True, 'FloydMayweather': False, 'DopeHouses': False, 'lyndonwilson_': False, 'LMFAO': False, 'alexjc': False, 'YaleHack': False, 'kanyewest': False, 'zaynmalik': False, 'wsj': True, 'include_cpp': False, 'billmaher': False, 'France24_ar': False, 'BremeFTW': False, 'chetan_bhagat': False, 'harrison44_': False, 'IBMResearch': False, 'emmawatson': False, 'knoxville_js': False, 'defcon': False, 'itsGup': False, 'AlpinistMag': False, 'MalwareJake': False, 'VORTEXJeff': True, 'businessinsider': True, 'patio11': False, 'kaka': False, 'cinema21': False, 'CMU_ECE': False, 'ClimbMagazine': False, 'pmoindia': False, 'CurtissKing': False, 'ShaynaFacts': False, 'msnbc': True, 'mmahan22': False, 'kjorgeson': False, 'andresiniesta8': False, 'musicscouting': False, 'saifaree': False, 'wingfree1': False, 'TwitterU': False, 'CalHacks': False, 'Yale_QI': False, 'jodibowlin': False, 'KilljoyNeal': False, 'time': True, 'youtube': False, 'GautamGambhir': False, 'ndtv': True, 'MarceloM12': False, 'onedirection': False, 'okmesonet': True, 'boingboing': True, 'priyankachopra': False, 'FALCAO': False, 'little_orphan_a': False, 'GrippedMagazine': False, 'earnmyturns': False, 'yoavgo': False, 'nba': False, 'abigail_e_see': False, 'TwitterData': False, 'Benzema': False, 'E_lie_us': False, 'good': True, 'medialab': False, 'linuxfoundation': False, 'RahulGandhi': False, '_rockt': False, 'UCBerkeley': False, 'fhuszar': False, 'DrBeef_': False, 'nytimesworld': True, 'programapanico': False, 'KnoxDataSci': False, 'tpmmedia': True, 'googlenews': True, 'nytmedia': True, 'stevio_gideon': False, 'detikcom': False, 'KarlTheFog': True, 'WayneRooney': False, 'UberFacts': False, 'chelsey_ferrell': False, 'TimesNow': True, 'promoteTNC': False, 't_burtner06': False, 'atmolife': True, 'KiddoFinesse': False, 'BoiledMegZ': False, 'lindsaylohan': False, 'MLHacks': False, 'ebethsmiddy16': False, 'MatthewWalker51': False, 'sherinasinna': False, 'MSFTQuantum': False, 'latimeslive': True, 'derbyhacks4': False, 'BadLuckBrax': False, 'jdsackie11': False, 'kdustin307': False, 'beatsbyvont': False, 'TwitterSupport': False, 'nyuniversity': False, 'AliciaMBentley': True, 'SushmaSwaraj': False, 'sezick': True, 'CGTNOfficial': True, 'KimberlyCoffey8': False, 'taylorswift13': False, 'stevewoz': False, 'A9one': False, 'codechef': False, 'Central_Bsbl': False, 'Alhilal_FC': False, 'HackDuke': False, 'edsheeran': False, 'LeaveMnsLeave': False, 'Tyler___Davies': False, 'JoeyCutless': False, 'PalantirTech': False, 'DRmetwatch': True, 'amrdiab': False, 'MTbeatz_': False, 'alopezlang': True, 'daily_wx': True, 'gdb': False, 'euronews': True, 'Jae1TRE': False, 'davos': True, 'mari_world_': False, 'markiplier': False, 'frontlinepbs': True, 'pmdfoster': False, 'WxComm': True, 'SPIEGEL_English': True, 'lenitatomas': False, 'HARDWELL': False, 'BestDJnames': False, 'jk_rowling': False, 'theHackRU': False, 'mitsmr': False, 'nytimestech': True, 'harvardbiz': True, 'aaa_utk': False, 'Tanmoy_Chak': False, 'sciencechannel': True, 'NDSSSymposium': False, 'rollingstone': True, 'mitdeeplearning': False, 'troyesivan': False, 'JmlrOrg': False, 'SkyNewsBreak': True, '2Dank4Jew': False, 'ShraddhaKapoor': False, 'juanes': False, 'googledrive': False, 'KnoxGameDesign': False, 'fcbarcelona': False, 'redditworldnews': True, 'DisneyPixar': False, 'kileyapalmer': False, 'jdr2698': False, 'ClaudiaLeitte': False, 'cesc4official': False, 'NVIDIADC': False, 'bts_bighit': False, 'afgansyah_reza': False, 'luansantana': False, 'BALDERASOSCAR': False, 'kelsimiller18': False, 'SpartaHack': False, 'thedailybeast': True, 'NickJoray99': False, 'NYTSports': True, 'showdavida': False, 'quantumjournal': False, 'selenagomez': False, '3gerardpique': False, 'mashable': True, 'nytimes': True, 'rww': True, 'AnushkaSharma': False, 'ianbremmer': False, 'WXMolly': True, 'bonnieallisonnn': False, 'shakira': False, 'VEJA': False, 'nybooks': True, 'TheRock': False, 'liampayne': False, 'DeepMind_Health': False, 'mellyme00': False, 'JoelOsteen': False, 'sonamakapoor': False, 'ImranKhanPTI': False, 'TWCBreaking': True, 'akshaykumar': False, 'tvnewser': True, 'tkasasagi': False, 'cornell_tech': False, 'inijedar': False, 'PSU_RadarMeteo': True, 'kobebryant': False, 'agnezmo': False, 'HackUMass': False, 'ylecun': False, 'vicenews': True, 'goodfellow_ian': False, 'Lmao': False, 'UberSoc': False, 'gneubig': False, 'SethMacFarlane': False, 'donbillionbeats': False, 'engadget': True, 'HackingDave': False, 'HULKaba': False, 'JKCorden': False, 'LAHacks': False, 'io9': True, 'AustinKesterson': False, 'jokowi': False, 'MetoliusClimb': False, 'chance_111': False, 'jessicaalba': False, 'KalebCooper_3': False, 'Stanford': False, 'techcrunch': True, 'zach_dunn32': False, 'Ludacris': False, 'hackutk': False, 'theophaneweber': False, 'googletalks': False, 'ihrithik': False, 'marcjacobs': False, 'nprnews': True, 'NCSUmeteorology': True, '3f30d31fbf334cd': False, 'ed_hawkins': True, 'tylerthecreator': False, 'marcoluque': False, 'hootsuite': False, 'creativecommons': False, 'TreApostraphe': False, 'googlemaps': False, 'MacMiller': False, 'ErikVoorhees': False, 'Zedd': False, 'strader_summer': False, 'vox_es': True, 'smritiirani': False, 'kyliejenner': False, 'MrScottEddy': False, 'CoMoBeats': False, 'sabqorg': False, 'ryan_p_adams': False, 'BigHitEnt': False, 'big_helton': False, 'rogerfederer': False, 'wxdam': True, 'RobertMLee': False, 'halvarflake': False, 'hackwithtrees': False, 'ToriAprilPerry_': False, 'honglaklee': False, 'LeaveEUOfficial': False, 'ch402': False, 'TrizlyPromo': False, 'GoogleOSS': False, 'Camila_Cabello': False, 'Beyonce': False, 'PhillyInquirer': True, 'kira_tempest_': False, 'lilskyyyy': False, 'AJENews': True, 'nickjonas': False, 'carmeloanthony': False, 'ladygaga': False, 'sarahnicole531': False, 'Yale': False, 'PalantirU': False, 'asusensip': False, 'Space_Station': False, 'lifehacker': True, 'NYDailyNews': True, 'aplusk': False, 'vidialdiano': False, 'jack_kelly': False, 'Forbes': False, 'kevinhart4real': False, 'danielhowell': False, 'StanfordAILab': False, 'dalailama': False, 'tANTxBLKFRMZ': False, '___HALEIGH': False, 'Luke5SOS': False, 'SummitAve23': False, 'scott_e_reed': False, 'davidbisbal': False, 'AtmosNews': True, 'H_Siedler': False, 'TwitterOSS': False, 'AlexHinton75': False, 'carlyraejepsen': False, 'chelseahandler': False, 'USTornadoes': True, 'WSJNY': True, 'sirajraval': False, 'ounwcm': True, 'natgeo': False, 'abc7': True, 'hackaday': False, 'ScotNational': True, 'wnycradiolab': True, 'RaffiAhmadLagi': False, 'discovermag': True, 'NickG_27': False, 'dangerzonebeats': False, 'sonakshisinha': False, 'madison_barron2': False, 'arstechnica': True, 'victoriabeckham': False, 'blakelynicoleee': False, 'premierleague': False, 'NWSPodunk': True, 'weatherdak': True, 'drewcntrell': False, 'amazon': False, 'balajis': False, 'mangeshkarlata': False, 'JuanLuisGuerra': False, 'SimonLeeWx': True, 'tommycaldwell1': False, 'lessig': False, 'SBYudhoyono': False, 'WxBDM': True, 'BreakingNews': True, 'fedora': False, 'andrey_kurenkov': False, 'jack': False, 'sunset_wx': True, 'JuseBeats': False, 'ABCNewsLive': True, 'TwitterSports': False, 'Varun_dvn': False, 'daddy_yankee': False, 'NintendoAmerica': False, 'todayshow': True, 'UgradResearch': False, 'bgreene': False, 'tornado_talk': True, 'empiremagazine': True, 'nytimesarts': True, 'roydanroy': False, 'rasbt': False, 'cnni': True, 'klm7435': False, 'QueenRania': False, 'CodeStock': False, 'eonline': True, 'lilChunn': False, 'adele': False, 'OverTheWireCTF': False, 'justicegwillia1': False, 'harbhajan_singh': False, 'connorfranta': False, 'dhanushkraja': False, 'tvOneNews': True, 'AveMcree': False, 'WxDeFlitch': True, 'SamsungMobile': False, 'annecurtissmith': False, 'Independent': True, 'charliesheen': False, 'tomhanks': False, 'Swiss_Frankie': False, 'tim_cook': False, 'CarnegieMellon': False, 'MIT': False, 'ClimbingMag': False, 'ResearchUTK': False, 'SimoneGiertz': False, 'balajiln': False, 'chloe_patt18': False, 'EdinburghUni': False, 'ChrisEvans': False, 'shadowlover2020': False, 'TheDailyShow': False, 'MoSalah': False, 'aliaa08': False, 'WSJbreakingnews': True, 'mariahcarey': False, 'CH14_': False, 'incmagazine': True, 'LiveOverflow': False, 'dealbook': True, 'parisreview': True, 'IamJarricTucker': False, 'FIFAcom': False, 'ZacEfron': False, 'AOL': True, 'TwitterSafety': False, 'whi_rl': False, 'mesutozil1088': False, 'OpenAI': False, 'DaniloGentili': False, 'nbcnews': True, 'Kenton__Smith': False, 'SystersUTK': False, 'wxjp2nyy': True, 'ScottyRockwell': False, 'Sethrogen': False, 'AnupamPKher': False, 'GarethBale11': False, 'UToutdoor': False, 'ThePSF': False, 'khloekardashian': False, 'thevirdas': False, 'ceober4': True, 'usweekly': True, '50cent': False, 'ChrisAlleman': False, 'rioferdy5': False, 'cristiano': False, 'PublicistMusic': False, 'AristeguiOnline': False, 'LunaMaya26': False, 'politico': True, 'GCPcloud': False, 'life': True, 'pitchforkmedia': True, 'esa': False, 'CERN': False, 'Arsenal': False, 'capitalweather': True, 'BJP4India': False, 'philklotzbach': True, 'instructables': False, 'KeenApollo': False, 'StephenAtHome': False, 'chrissyteigen': False, 'steveaoki': False, 'wxbrad': True, 'HackMIT': False, 'settle_hayden': False, 'LuisFonsi': False, 'imdanielpadilla': False, 'tr_king116': False, 'vanityfairmag': True, 'The_Newg': False, 'vicegandako': False, 'jack_wiggers': False, 'nasa': False, 'Persie_Official': False, 'autumn_rheaa': False, 'AliyahMcCane212': False, 'MattisonJerian': False, 'crankywxguy': True, 'richardbranson': False, 'SaudiNews50': True, 'kata2bijak': False, 'severeweatherEU': True, 'kourtneykardash': False, 'pepatah': False, 'timesofindia': True, 'LauraBabcock66': False, 'samsmith': False, 'TheSun': True, 'championsleague': False, 'cnetnews': True, 'haldaume3': False, 'hm': False, 'MSFTResearch': False, 'HackPrinceton': False, 'dallasnews': True, 'ParisHilton': False, 'EricisWise': False, 'slate': True, 'Climatologist49': True, 'taypritchett': False, 'jlo': False, 'enmusic06': False, 'Trevornoah': False, 'TheCragTN': False, 'theeconomist': True, 'tweetmeme': True, 'mychickbad2014': False, 'Ryanna__Lee': False, 'taylornarain': False, 'kendricklamar': False, 'AndrewYNg': False, 'TheAdamSnyder': False, 'guardiantech': True, 'JirocaMusic': False, 'csmonitor': True, 'hack_arizona': False, 'adafruit': False, 'GarySzatkowski': True, 'DenverChannel': True, 'NickBrownOnline': False, 'LukeBryanOnline': False, 'Anitta': False, 'Callo_ferguson': False, 'chrisbrown': False, 'imvkohli': False, 'garrett_griffis': False, 'deepikapadukone': False, 'GitHubCommunity': False, 'CalvinHarris': False, 'jawad22tkhissi': False, 'adamlevine': False, 'racheIcatherine': False, 'anthonywx': True, 'BroganWebber': False, 'NewYorker': False, 'StanfordGSB': False, 'stormchasernick': True, 'guardiannews': True, 'cmuhcii': False, 'blakeshelton': False, 'jsdhoover': False, 'laura_biddle': False, 'TwitterLive': False, 'joejonas': False, 'jeremyphoward': False, 'Ricardo_Arjona': False, 'NYTMetro': True, 'LexieReins': False, 'UTK_TCE': False, 'salman_alodah': False, 'AJEnglish': True, 'EECS_UTK': False, 'NYTNational': True, 'KDTrey5': False, 'IGGYAZALEA': False, 'VineCreators': False, 'TheOfficialACM': False, 'HeatherMannis': False, 'SabrinaSato': False, 'cocielo': False, 'wizkhalifa': False, 'traktrain': False, 'aliciakeys': False, '_chloemaxey': False, 'JessieJ': False, 'Memoirs': False, 'hannahv1998': False, 'LanaDelRey': False, 'Dior': False, 'ashwinravi99': False, 'acmebeans': False, 'KeithCarson': True, '10k_YHM': False, 'MalloryAdams_': False, 'ChasingWithEcho': True, 'planetmoney': True, '10st__Fredo': False, 'j00ru': False, 'Starbucks': False, 'breakingnews': True, 'satyanadella': False, 'SteveMartinToGo': False, 'VancityReynolds': False, 'HessHallUTK': False, 'makerfaire': False, 'Orsophilia': False, 'googlecodejam': False, 'PyTennessee': False, 'neymarjr': False, 'nytclimate': True, 'newerahiphoprnb': False, 'WeAllSomeBosses': False, 'KnoxJava': False, 'OriolVinyalsML': False, 'ciara': False, 'lockingitin': True, 'terns': False, 'Rooossseee__': False, 'rihanna': False, 'RichardDawkins': False, 'sciencenewsorg': True, 'LANow': True, 'business': True, 'mtv': True, 'prozdkp': False, 'neiltyson': False, 'GermanGarmendia': False, 'MSFTResearchCam': False, 'Zeek1997': False, 'voxdotcom': True, 'dustinvtran': False, 'oprah': False, 'shakir_za': False, 'enews': True, 'rickygervais': False, 'natgeosociety': True, 'BostonDotCom': True, 'vandyhacks': False, 'thalia': False, 'RyanSeacrest': False, 'WKUweather': True, 'skydrama': True, 'SergioRamos': False, 'MdHelal25239056': False, 'lcress0430': False, 'Tip': False, 'Astro_Alex': False, 'evacide': False, 'Harvard': False, 'knoxpytn': False, 'NalKalchbrenner': False, 'SidMalhotra': False, 'FabioPorchat': False, 'GoofyWhiteDude': False, 'felipeneto': False, 'Sportiva': False, 'Mark_Pozega': False, 'ICC': False, 'climbermagazine': False, 'johnplattml': False, 'notmisha': False, 'NUWildHacks': False, 'HuffPostPol': True, 'UTRF': False, 'McGillHacks': False, 'narendramodi': False, 'ArvindKejriwal': False, 'drfeifei': False, 'UTKnoxvilleNews': False, 'Caradelevingne': False, 'JackSillin': True, 'bernardokath': False, 'PaxPhotography': True, 'kelly_clarkson': False, 'Northeastern': False, 'instyle': True, 'axios': True, 'arianagrande': False, 'tyler_george52': False, 'angular': False, 'MariaSharapova': False, 'SHAQ': False, 'USAClimbing': False, 'NvidiaAI': False, 'RCPMWx': True, 'nwas': True, 'Gifford13Amy': False, 'AlArabiya_Brk': False, 'gawker': True, 'SamuelLJackson': False, 'hackNY': False, 'LittleMix': False, 'soumithchintala': False, 'srbachchan': False, 'Smerity': False, 'themainichi': True, 'johnlegend': False, 'Addie_Morton': False, 'maliabowlin': False, 'Microsoft': False, 'TNGridironScout': False, 'alejandrosanz': False, 'AbainzaRalph': True, 'JacobAdams97': False, 'shugairi': False, 'arrahman': False, 'MikeEastBeats': False, 'nipun_batra': False, 'ngolikhin': False, 'URSAutk': False, 'XabiAlonso': False, 'peoplemag': True, 'niallofficial': False, 'egrefen': False, 'karanjohar': False, 'themexicangirl_': False, 'Raspberry_Pi': False, 'NOAABrauer': True, 'amrkhaled': False, 'HarvardHBS': False, 'StephenTrewhitt': False, 'Nike': False, 'DeepMindAI': False, 'Earth_Pics': False, 'TensorFlow': False, 'jaydensinghfiji': False, 'ImRaina': False, 'lopezdoriga': False, 'GiGiHadid': False, 'radityadika': False, 'gdgt': True, 'rebelbabe212': False, 'msdev': False, 'GerardBattenMEP': False, 'iamwill': False, 'UpshotNYT': True, 'muyinteresante': False, 'BBCNews': True, '5Ten': False, 'Michael5SOS': False, 'GalatasaraySK': False, 'newsweek': True, 'Usher': False, 'cnnarabic': True, 'smashingmag': True, 'Saraseaton': False, 'chipro': False, 'maroon5': False, 'trenchlordb': False, 'HackCU': False, 'XHNews': True, 'beats_by_bartas': False, 'ddlovato': False, 'cw_network': True, '9GAG': False, 'CBSTopNews': True, 'Marmot': False, 'DavidDuvenaud': False, 'UTILIZETIME24': False, 'DwyaneWade': False, 'g1': False, 'BernieSanders': False, 'sashadigiulian': False, 'ashleytisdale': False, 'socialmedia2day': True, 'kayvz': False, 'LegendaryMonty': False, 'NYTHealth': True, 'mattblaze': False, 'Miles_Brundage': False, 'wxmann': True, 'sparkfun': False, 'GSuiteDevs': False, 'wrightrobby51': False, '_emmachristie_': False, 'ScienzaPiccola': True, 'kendalljenner': False, 'TropicalTidbits': True, 'theonion': True, 'uwcse': False, 'abc': True, 'jaredlhuskey': False, 'WestmonsterUK': False, 'CyLab': False, 'NPR': True, 'seb_ruder': False, 'SalesforceDevs': False, 'NFZwhitt5': False, 'IsaacBuell': False, 'rileythomas_21': False, 'LimbaughZayne': False, 'wxjay': True, 'ReutersUK': True, 'JColeNC': False, 'ORNL_CISR': False, 'jtimberlake': False, 'TwitterVideo': False, 'backcountry': False, 'UTProPractice': False, 'ZBallengwe': False, 'MattByrd17': False, 'pastemagazine': True, 'SaaamCapps': False, 'cracked': True, '50ShadesofVan': True, 'andersoncooper': False, 'lawrennd': False, 'HuffPost': True, 'windbarb': True, 'ParineetiChopra': False, 'GizmodoAU': True, 'ivetesangalo': False, 'liltunechi': False, 'sama': False, 'TwitterTV': False, 'ericjang11': False, 'arduino': False, 'NOAASatellites': True, 'PennApps': False, 'dotnet': False, 'divinemakeup1_': False, 'Oregonian': True, 'usnews': True, 'NashTechEvents': False, 'nielsen': True, 'sedielem': False, 'TheAtlantic': True, 'StationCDRKelly': False, 'thelodaboi': False, 'shaunacoxsey': False, 'SarahKSilverman': False, 'fchollet': False, 'NSaina': False, 'katie_hueser': False, 'Cambridge_Uni': False, 'najwakaram': False, 'NeurIPSConf': False, 'theweeknd': False, 'JackBrown64': False, 'AppleMusic': False, 'TwitterLatAm': False, 'PaulinaRubio': False, 'CNNPolitics': True, 'Cornell': False, 'BaiduResearch': False, 'UW': False, 'hackBCA': False, 'itvnews': True, 'TeenWeatherman': True, 'julianna__pratt': False, 'xtina': False, 'nikkiic04': False, 'than_parolari': False, 'ZachAdding10': False, 'austinhope10': False, 'UN': False, 'twitter': False, 'annalindsey_': False, 'Alwaleed_Talal': False, 'donttrythis': False, 'officialjaden': False, 'AP': True, 'Grizzlybeatz': False, 'jackclarkSF': False, 'JacobWaddyG': False, 'JBemari': False, 'Discovery': False, 'IFSClimbing': False, 'potus': False, 'maddow': False, 'googlechrome': False, 'xkcdComic': False, 'juanmata8': False, 'montanertwiter': False, 'YonhapNews': True, 'abdulrahman': False, 'MichelleObama': False, 'jimmykimmel': False, 'zacharylipton': False, 'LanieBug1998': False, 'WWE': False, 'knightlyknewss': False, 'NoticiasRCN': True, 'yadavakhilesh': False, 'hackadayio': False, 'ChicagoBreaking': True, 'seanmcarroll': False, 'AhlamAlShamsi': False, 'kc_sounds': False, 'google': False, 'av_mvg': False, 'mattlanza': True, 'm25athi25s': False, 'maljenkins': False, 'drudge_report': True, 'CherylNelsonTV': True, '9thaudiobeats': False, 'foxnews': True, 'Moolbrelyt': False, 'POTUS44': False, 'FinancialTimes': True, 'Selenaperez06': False, 'deesmiff_': False, 'mapgirl18': True, 'Diddy': False, 'itsJTDesigns': False, 'roberto_bayardo': False, 'redpenblackpen': False, 'mcd_hailey': False, 'wx_becks': True, 'seedmag': True, 'dog_rates': False, 'WesternMEwx': True, 'breakingstorm': True, 'whindersson': False, 'SofiaVergara': False, 'hanyunw': False, 'nodejs': False, 'thedavidbrumley': False, 'VisualStudio': False, 'azizansari': False, 'sciam': True, 'rajnathsingh': False, 'LuceroMexico': False, 'realmadriden': False, 'realmadrid': False, 'fermatslibrary': False, 'morganabigail': True, 'HackMidwest': False, 'LuisSuarez9': False, 'BCCI': False, 'newscientist': True, 'louis_tomlinson': False, 'NOAANCEIclimate': True, 'akers_trey': False, 'MayorofLondon': False, '143redangel': False, 'Rubiu5': False, 'SkylerSivells': False, 'Topcoder': False, 'themoment': True, 'realwbonner': False, 'Pontifex': False, 'cnn': True, 'BrownUniversity': False, 'CultureShockUT': False, 'kimkardashian': False, 'WOAHsabear': False, 'srrcreative': False, 'Fox0x01': False, 'GhstFcV': False, 'NYTmag': True, 'mileycyrus': False, 'marcosmion': False, 'TimBuckleyWX': True, 'mcuban': False, 'TheOrangeBobcat': False, 'Kazerton': False, 'CSAW_NYUTandon': False, 'jamesdrodriguez': False, 'LiamWal57513876': False, 'MLB': False, '5SOS': False, 'MalwareTechBlog': False, 'SnoopDogg': False, 'justinbieber': False, 'halsey': False, 'UofTHacks': False, 'Pharrell': False, 'shahidkapoor': False, 'AlexHonnold': False, 'Channel4News': True, 'wxornotBG': True, 'blakejones6760': False, 'rustyrockets': False, 'australian': True, 'Dr_alqarnee': False, 'washingtonpost': True, 'Verseunheard': False, 'sadlersnyder': False, 'TTrogdon': True, 'elonmusk': False, 'virendersehwag': False, 'Mito_kshkln': False, '0xAmit': False, 'TrakStarBeats': False, 'yaringal': False, 'toro_saurus': False, 'PyTorch': False, 'shadesof420': False, 'DatBroTre': False, 'CP3': False, 'ryleegriffis': False, 'politicony': True, 'TwitterDev': False, 'coldplay': False, 'honorsutk': False, 'thenorthface': False, 'hackerrank': False, 'jimmcintyreedit': False, 'iCyclone': True, 'breakingnewsie': True, 'raisa6690': False, 'github': False, '865UGENE': False, 'smackdownbeats': False, 'sportscenter': False, 'usatoday': True, 'realmadridarab': False, 'code': False, 'sardesairajdeep': False, 'telegraphnews': True, 'RacecaR122': False, 'JohnMoralesNBC6': True, 'NancyAjram': False, 'tanzeemc': False, 'enriqueiglesias': False, 'bbcclick': True, 'UT_RecSports': False, 'Alafasy': False, 'VictoriasSecret': False, 'StephenCurry30': False, 'edchi': False, 'BlackDiamond': False, 'rsalakhu': False, 'TimNBCBoston': True, 'beingsalmankhan': False, 'AmitShah': False, 'Alyssa37918': False, 'AcademiaObscura': False, 'CHANEL': False, 'Naww217': False, 'billboarddotcom': True, '10Ronaldinho': False, 'kasen5beast': False, 'jsnaillonwx': True, 'IBGDRGN': False, 'NeilClark66': False, 'deepak_birhade': False, 'rockandice': False, 'BigSean': False, 'ricky_martin': False, 'UTclubsports': False, 'googledevs': False, 'cnnlive': True, 'nwplusubc': False, 'ICECOLDBILL': False, 'MWObs': True, 'LFC': False, 'brunomars': False, 'TheWeirdWorld': False, '_faulknerliz': False, 'abpnewstv': True, 'islivingston': True, 'thewxjunkies': True, 'PRhyme_Official': False, 'VictoriaJustice': False, 'janexwang': False, 'thetruerealness': False, 'Bwhite9512': False, 'cnnmoney': True, 'Manoloray5': False, 'antmasiello': True, 'shawnmilrad': True, 'zentainanimo': False, 'ReutersLive': True, 'LINKTHEPLUG': False, 'MartinGarrix': False, 'kenzieday14': False, 'LanMisty': True, 'Sana237853261': False, 'Swamy39': False, 'sundarpichai': False, 'HBO': False, 'UndergradAward': False, 'GabinaGh': False, 'VT_Hacks': False, 'IAMQUEENLATIFAH': False, 'HackwithGithub': False, 'usabreakingnews': True, 'Jerusalem_Post': True, 'bbcworld': True, 'FLOTUS': False, 'travlandleisure': True, 'BTS_twt': False, 'lorde': False, 'icmlconf': False, 'NoticiasCaracol': False, 'GeezyPromoTeam': False, 'HackTheNorth': False, 'aguerosergiokun': False, 'theHackNC': False, 'gaz___membrane': False, 'TMCPoldaMetro': False, 'yahoonews': True, 'arunjaitley': False, 'carrieunderwood': False, 'TwitterMusic': False, 'gynvael': False, 'theellenshow': False, 'maddiestone': False, 'AlecRad': False, 'yo_kayyla': False, 'DubHacks': False, 'btangyWx': True, 'demishassabis': False, 'tyrabanks': False, 'TheMidiMilitia': False, 'instagram': False, 'kingjames': False, 'reactjs': False, 'AFP': True, 'Carles5puyol': False, 'nytimesbusiness': True, 'katyperry': False, 'weather_history': True, 'SkyNews': True, 'cbsnews': True, 'douglas_eck': False, 'kchonyc': False, 'SwiftAlphaOne': False, 'pewdiepie': False, 'seanoglesby1011': False, 'latimes': True, 'TechnicallyRon': False, 'MIT_CSAIL': False, 'channingtatum': False, 'BlackRock_Eng': False, 'ShaneLegg': False, 'samim': False, 'karpathy': False, 'nytimesphoto': True, 'Derrick_Snyder': True, 'RobertDowneyJr': False, 'BillNye': False, 'danqi_chen': False, 'Benioff': False, 'bbcbreaking': True, 'KatieKmeade': False, 'espn': True, 'holly_mccool': False, 'JimCarrey': False, 'ML_NLP': False, 'conanobrien': False, 'cbabdullahgul': False, 'MaureenMcCann13': True, 'ManUtd': False, 'WashTimes': True, 'RapJunkiez': False, 'HackBeanpot': False, 'yuyacst': False, 'STEVETREWHITT1': False, 'hackatbrown': False, 'math_rachel': False, 'D_DeGea': False, 'yggdrasilmgmt': False, 'MonsieurDream': False, 'TreySongz': False, 'BuzzFeedNews': True, 'NabilAlawadhy': False, 'suzatweet': False, 'stanfordnlp': False, 'CalebGrunzke': True, 'dennybritz': False, 'NYTM': False, 'davidguetta': False, 'sachin_rt': False, 'elissakh': False, 'yeewhye': False, 'whitehouse': True, 'RealHughJackman': False, 'DrShepherd2013': True, 'mbc1': False, 'paulythegun': True, 'memotv': False, 'EugenioDerbez': False, '629_1350': False, 'Wieser_725': False, 'jisungkimm': False, 'thekiranbedi': False, 'NashSevereWx': False, 'shuaSHHHUUAAA__': False, 'AnimaAnandkumar': False, 'emily_wise13': False, 'CharlesMelvin': False, 'chrmanning': False, 'realdonaldtrump': False, 'Telegraph': True, 'harry_styles': False, 'DjokerNole': False, 'tvguide': True, 'bettisthedaniel': False, 'biz': False, '_bthuffy': False, 'jessfraz': False, 'NandoDF': False}\n"
     ]
    },
    {
     "name": "stderr",
     "output_type": "stream",
     "text": [
      "\n"
     ]
    }
   ],
   "source": [
    "import pandas as pd\n",
    "\n",
    "user = {}\n",
    "\n",
    "news = pd.read_csv(\"news.csv\")\n",
    "for index, row in tqdm(news.iterrows()):\n",
    "    if(row['news']==1):\n",
    "        user[row[\"user\"]] = True\n",
    "    if(row['news']==0):\n",
    "        user[row[\"user\"]] = False\n",
    "print(user)"
   ]
  },
  {
   "cell_type": "code",
   "execution_count": 3,
   "metadata": {},
   "outputs": [
    {
     "name": "stderr",
     "output_type": "stream",
     "text": [
      "/usr/local/lib/python3.5/dist-packages/ipykernel_launcher.py:46: DeprecationWarning: collection_names is deprecated. Use list_collection_names instead.\n",
      "  0%|          | 0/1421 [00:00<?, ?it/s]/usr/local/lib/python3.5/dist-packages/ipykernel_launcher.py:64: DeprecationWarning: insert is deprecated. Use insert_one or insert_many instead.\n",
      "  2%|▏         | 27/1421 [00:00<00:35, 39.15it/s]"
     ]
    },
    {
     "name": "stdout",
     "output_type": "stream",
     "text": [
      "new user found\n",
      "new user found\n",
      "error adding new user\n"
     ]
    },
    {
     "name": "stderr",
     "output_type": "stream",
     "text": [
      "\r",
      "  2%|▏         | 33/1421 [00:00<00:58, 23.63it/s]"
     ]
    },
    {
     "name": "stdout",
     "output_type": "stream",
     "text": [
      "new user found\n",
      "error adding new user\n"
     ]
    },
    {
     "name": "stderr",
     "output_type": "stream",
     "text": [
      "\r",
      "  3%|▎         | 38/1421 [00:01<01:06, 20.71it/s]"
     ]
    },
    {
     "name": "stdout",
     "output_type": "stream",
     "text": [
      "new user found\n"
     ]
    },
    {
     "name": "stderr",
     "output_type": "stream",
     "text": [
      "\r",
      "  3%|▎         | 42/1421 [00:01<01:11, 19.18it/s]"
     ]
    },
    {
     "name": "stdout",
     "output_type": "stream",
     "text": [
      "new user found\n",
      "error adding new user\n"
     ]
    },
    {
     "name": "stderr",
     "output_type": "stream",
     "text": [
      "\r",
      "  3%|▎         | 45/1421 [00:01<01:23, 16.54it/s]"
     ]
    },
    {
     "name": "stdout",
     "output_type": "stream",
     "text": [
      "new user found\n"
     ]
    },
    {
     "name": "stderr",
     "output_type": "stream",
     "text": [
      "\r",
      "  4%|▎         | 52/1421 [00:01<01:14, 18.28it/s]"
     ]
    },
    {
     "name": "stdout",
     "output_type": "stream",
     "text": [
      "new user found\n"
     ]
    },
    {
     "name": "stderr",
     "output_type": "stream",
     "text": [
      "\r",
      "  4%|▍         | 57/1421 [00:02<01:13, 18.67it/s]"
     ]
    },
    {
     "name": "stdout",
     "output_type": "stream",
     "text": [
      "new user found\n"
     ]
    },
    {
     "name": "stderr",
     "output_type": "stream",
     "text": [
      "\r",
      "  4%|▍         | 63/1421 [00:02<01:08, 19.71it/s]"
     ]
    },
    {
     "name": "stdout",
     "output_type": "stream",
     "text": [
      "new user found\n"
     ]
    },
    {
     "name": "stderr",
     "output_type": "stream",
     "text": [
      "  6%|▋         | 92/1421 [00:02<00:43, 30.55it/s]"
     ]
    },
    {
     "name": "stdout",
     "output_type": "stream",
     "text": [
      "new user found\n"
     ]
    },
    {
     "name": "stderr",
     "output_type": "stream",
     "text": [
      "\r",
      "  7%|▋         | 106/1421 [00:03<00:37, 34.82it/s]"
     ]
    },
    {
     "name": "stdout",
     "output_type": "stream",
     "text": [
      "new user found\n",
      "error adding new user\n"
     ]
    },
    {
     "name": "stderr",
     "output_type": "stream",
     "text": [
      "\r",
      "  8%|▊         | 113/1421 [00:03<00:42, 30.60it/s]"
     ]
    },
    {
     "name": "stdout",
     "output_type": "stream",
     "text": [
      "new user found\n"
     ]
    },
    {
     "name": "stderr",
     "output_type": "stream",
     "text": [
      "\r",
      "  8%|▊         | 119/1421 [00:03<00:46, 28.07it/s]"
     ]
    },
    {
     "name": "stdout",
     "output_type": "stream",
     "text": [
      "new user found\n"
     ]
    },
    {
     "name": "stderr",
     "output_type": "stream",
     "text": [
      "\r",
      " 10%|▉         | 137/1421 [00:04<00:39, 32.86it/s]"
     ]
    },
    {
     "name": "stdout",
     "output_type": "stream",
     "text": [
      "new user found\n"
     ]
    },
    {
     "name": "stderr",
     "output_type": "stream",
     "text": [
      "\r",
      " 10%|▉         | 142/1421 [00:04<00:51, 24.73it/s]"
     ]
    },
    {
     "name": "stdout",
     "output_type": "stream",
     "text": [
      "new user found\n"
     ]
    },
    {
     "name": "stderr",
     "output_type": "stream",
     "text": [
      " 12%|█▏        | 172/1421 [00:04<00:33, 37.15it/s]"
     ]
    },
    {
     "name": "stdout",
     "output_type": "stream",
     "text": [
      "new user found\n"
     ]
    },
    {
     "name": "stderr",
     "output_type": "stream",
     "text": [
      "\r",
      " 13%|█▎        | 181/1421 [00:05<00:35, 35.13it/s]"
     ]
    },
    {
     "name": "stdout",
     "output_type": "stream",
     "text": [
      "new user found\n"
     ]
    },
    {
     "name": "stderr",
     "output_type": "stream",
     "text": [
      " 15%|█▍        | 212/1421 [00:05<00:24, 48.87it/s]"
     ]
    },
    {
     "name": "stdout",
     "output_type": "stream",
     "text": [
      "new user found\n"
     ]
    },
    {
     "name": "stderr",
     "output_type": "stream",
     "text": [
      "\r",
      " 16%|█▌        | 226/1421 [00:05<00:25, 47.75it/s]"
     ]
    },
    {
     "name": "stdout",
     "output_type": "stream",
     "text": [
      "new user found\n"
     ]
    },
    {
     "name": "stderr",
     "output_type": "stream",
     "text": [
      "\r",
      " 17%|█▋        | 239/1421 [00:06<00:25, 46.75it/s]"
     ]
    },
    {
     "name": "stdout",
     "output_type": "stream",
     "text": [
      "new user found\n"
     ]
    },
    {
     "name": "stderr",
     "output_type": "stream",
     "text": [
      "\r",
      " 18%|█▊        | 249/1421 [00:06<00:27, 43.06it/s]"
     ]
    },
    {
     "name": "stdout",
     "output_type": "stream",
     "text": [
      "new user found\n"
     ]
    },
    {
     "name": "stderr",
     "output_type": "stream",
     "text": [
      "\r",
      " 18%|█▊        | 260/1421 [00:06<00:28, 40.97it/s]"
     ]
    },
    {
     "name": "stdout",
     "output_type": "stream",
     "text": [
      "new user found\n"
     ]
    },
    {
     "name": "stderr",
     "output_type": "stream",
     "text": [
      "\r",
      " 19%|█▊        | 266/1421 [00:06<00:34, 33.48it/s]"
     ]
    },
    {
     "name": "stdout",
     "output_type": "stream",
     "text": [
      "new user found\n"
     ]
    },
    {
     "name": "stderr",
     "output_type": "stream",
     "text": [
      "\r",
      " 19%|█▉        | 275/1421 [00:07<00:37, 30.61it/s]"
     ]
    },
    {
     "name": "stdout",
     "output_type": "stream",
     "text": [
      "new user found\n"
     ]
    },
    {
     "name": "stderr",
     "output_type": "stream",
     "text": [
      "\r",
      " 20%|█▉        | 283/1421 [00:07<00:37, 30.22it/s]"
     ]
    },
    {
     "name": "stdout",
     "output_type": "stream",
     "text": [
      "new user found\n"
     ]
    },
    {
     "name": "stderr",
     "output_type": "stream",
     "text": [
      "\r",
      " 20%|██        | 287/1421 [00:07<00:47, 23.95it/s]"
     ]
    },
    {
     "name": "stdout",
     "output_type": "stream",
     "text": [
      "new user found\n",
      "error adding new user\n"
     ]
    },
    {
     "name": "stderr",
     "output_type": "stream",
     "text": [
      "\r",
      " 21%|██        | 292/1421 [00:08<00:50, 22.48it/s]"
     ]
    },
    {
     "name": "stdout",
     "output_type": "stream",
     "text": [
      "new user found\n"
     ]
    },
    {
     "name": "stderr",
     "output_type": "stream",
     "text": [
      "\r",
      " 21%|██        | 296/1421 [00:08<00:56, 20.07it/s]"
     ]
    },
    {
     "name": "stdout",
     "output_type": "stream",
     "text": [
      "new user found\n"
     ]
    },
    {
     "name": "stderr",
     "output_type": "stream",
     "text": [
      "\r",
      " 21%|██        | 299/1421 [00:08<01:09, 16.26it/s]"
     ]
    },
    {
     "name": "stdout",
     "output_type": "stream",
     "text": [
      "new user found\n"
     ]
    },
    {
     "name": "stderr",
     "output_type": "stream",
     "text": [
      "\r",
      " 22%|██▏       | 311/1421 [00:08<00:57, 19.45it/s]"
     ]
    },
    {
     "name": "stdout",
     "output_type": "stream",
     "text": [
      "new user found\n"
     ]
    },
    {
     "name": "stderr",
     "output_type": "stream",
     "text": [
      "\r",
      " 22%|██▏       | 314/1421 [00:09<01:07, 16.41it/s]"
     ]
    },
    {
     "name": "stdout",
     "output_type": "stream",
     "text": [
      "new user found\n"
     ]
    },
    {
     "name": "stderr",
     "output_type": "stream",
     "text": [
      "\r",
      " 22%|██▏       | 318/1421 [00:09<01:10, 15.55it/s]"
     ]
    },
    {
     "name": "stdout",
     "output_type": "stream",
     "text": [
      "new user found\n"
     ]
    },
    {
     "name": "stderr",
     "output_type": "stream",
     "text": [
      "\r",
      " 23%|██▎       | 325/1421 [00:09<01:03, 17.40it/s]"
     ]
    },
    {
     "name": "stdout",
     "output_type": "stream",
     "text": [
      "new user found\n"
     ]
    },
    {
     "name": "stderr",
     "output_type": "stream",
     "text": [
      " 25%|██▌       | 358/1421 [00:10<00:36, 29.33it/s]"
     ]
    },
    {
     "name": "stdout",
     "output_type": "stream",
     "text": [
      "new user found\n"
     ]
    },
    {
     "name": "stderr",
     "output_type": "stream",
     "text": [
      " 28%|██▊       | 404/1421 [00:10<00:21, 46.92it/s]"
     ]
    },
    {
     "name": "stdout",
     "output_type": "stream",
     "text": [
      "new user found\n",
      "new user found\n",
      "new user found\n"
     ]
    },
    {
     "name": "stderr",
     "output_type": "stream",
     "text": [
      "\r",
      " 29%|██▉       | 414/1421 [00:11<00:40, 25.11it/s]"
     ]
    },
    {
     "name": "stdout",
     "output_type": "stream",
     "text": [
      "new user found\n"
     ]
    },
    {
     "name": "stderr",
     "output_type": "stream",
     "text": [
      " 31%|███       | 442/1421 [00:11<00:26, 36.27it/s]"
     ]
    },
    {
     "name": "stdout",
     "output_type": "stream",
     "text": [
      "new user found\n"
     ]
    },
    {
     "name": "stderr",
     "output_type": "stream",
     "text": [
      "\r",
      " 32%|███▏      | 452/1421 [00:12<00:26, 36.30it/s]"
     ]
    },
    {
     "name": "stdout",
     "output_type": "stream",
     "text": [
      "new user found\n"
     ]
    },
    {
     "name": "stderr",
     "output_type": "stream",
     "text": [
      "\r",
      " 32%|███▏      | 460/1421 [00:12<00:28, 34.09it/s]"
     ]
    },
    {
     "name": "stdout",
     "output_type": "stream",
     "text": [
      "new user found\n"
     ]
    },
    {
     "name": "stderr",
     "output_type": "stream",
     "text": [
      " 35%|███▍      | 492/1421 [00:12<00:18, 49.48it/s]"
     ]
    },
    {
     "name": "stdout",
     "output_type": "stream",
     "text": [
      "new user found\n",
      "error adding new user\n",
      "new user found\n"
     ]
    },
    {
     "name": "stderr",
     "output_type": "stream",
     "text": [
      "\r",
      " 35%|███▌      | 502/1421 [00:13<00:29, 31.32it/s]"
     ]
    },
    {
     "name": "stdout",
     "output_type": "stream",
     "text": [
      "new user found\n"
     ]
    },
    {
     "name": "stderr",
     "output_type": "stream",
     "text": [
      " 38%|███▊      | 533/1421 [00:13<00:19, 45.40it/s]"
     ]
    },
    {
     "name": "stdout",
     "output_type": "stream",
     "text": [
      "new user found\n"
     ]
    },
    {
     "name": "stderr",
     "output_type": "stream",
     "text": [
      "\r",
      " 39%|███▉      | 555/1421 [00:14<00:17, 50.67it/s]"
     ]
    },
    {
     "name": "stdout",
     "output_type": "stream",
     "text": [
      "new user found\n"
     ]
    },
    {
     "name": "stderr",
     "output_type": "stream",
     "text": [
      "\r",
      " 40%|███▉      | 564/1421 [00:14<00:21, 40.71it/s]"
     ]
    },
    {
     "name": "stdout",
     "output_type": "stream",
     "text": [
      "new user found\n"
     ]
    },
    {
     "name": "stderr",
     "output_type": "stream",
     "text": [
      "\r",
      " 40%|████      | 575/1421 [00:14<00:21, 39.51it/s]"
     ]
    },
    {
     "name": "stdout",
     "output_type": "stream",
     "text": [
      "new user found\n",
      "new user found\n"
     ]
    },
    {
     "name": "stderr",
     "output_type": "stream",
     "text": [
      " 42%|████▏     | 601/1421 [00:15<00:27, 30.18it/s]"
     ]
    },
    {
     "name": "stdout",
     "output_type": "stream",
     "text": [
      "new user found\n"
     ]
    },
    {
     "name": "stderr",
     "output_type": "stream",
     "text": [
      " 44%|████▍     | 626/1421 [00:15<00:18, 42.05it/s]"
     ]
    },
    {
     "name": "stdout",
     "output_type": "stream",
     "text": [
      "new user found\n"
     ]
    },
    {
     "name": "stderr",
     "output_type": "stream",
     "text": [
      " 46%|████▌     | 656/1421 [00:16<00:15, 50.20it/s]"
     ]
    },
    {
     "name": "stdout",
     "output_type": "stream",
     "text": [
      "new user found\n",
      "new user found\n"
     ]
    },
    {
     "name": "stderr",
     "output_type": "stream",
     "text": [
      "\r",
      " 47%|████▋     | 668/1421 [00:16<00:20, 36.13it/s]"
     ]
    },
    {
     "name": "stdout",
     "output_type": "stream",
     "text": [
      "new user found\n",
      "new user found\n"
     ]
    },
    {
     "name": "stderr",
     "output_type": "stream",
     "text": [
      "\r",
      " 48%|████▊     | 677/1421 [00:17<00:27, 26.67it/s]"
     ]
    },
    {
     "name": "stdout",
     "output_type": "stream",
     "text": [
      "new user found\n"
     ]
    },
    {
     "name": "stderr",
     "output_type": "stream",
     "text": [
      "\r",
      " 48%|████▊     | 689/1421 [00:17<00:24, 29.41it/s]"
     ]
    },
    {
     "name": "stdout",
     "output_type": "stream",
     "text": [
      "new user found\n"
     ]
    },
    {
     "name": "stderr",
     "output_type": "stream",
     "text": [
      " 50%|█████     | 715/1421 [00:17<00:19, 36.29it/s]"
     ]
    },
    {
     "name": "stdout",
     "output_type": "stream",
     "text": [
      "new user found\n"
     ]
    },
    {
     "name": "stderr",
     "output_type": "stream",
     "text": [
      "\r",
      " 51%|█████     | 725/1421 [00:18<00:19, 36.02it/s]"
     ]
    },
    {
     "name": "stdout",
     "output_type": "stream",
     "text": [
      "new user found\n"
     ]
    },
    {
     "name": "stderr",
     "output_type": "stream",
     "text": [
      "\r",
      " 52%|█████▏    | 734/1421 [00:18<00:19, 34.89it/s]"
     ]
    },
    {
     "name": "stdout",
     "output_type": "stream",
     "text": [
      "new user found\n"
     ]
    },
    {
     "name": "stderr",
     "output_type": "stream",
     "text": [
      "\r",
      " 52%|█████▏    | 741/1421 [00:18<00:22, 30.45it/s]"
     ]
    },
    {
     "name": "stdout",
     "output_type": "stream",
     "text": [
      "new user found\n",
      "new user found\n"
     ]
    },
    {
     "name": "stderr",
     "output_type": "stream",
     "text": [
      "\r",
      " 53%|█████▎    | 747/1421 [00:19<00:32, 20.76it/s]"
     ]
    },
    {
     "name": "stdout",
     "output_type": "stream",
     "text": [
      "new user found\n"
     ]
    },
    {
     "name": "stderr",
     "output_type": "stream",
     "text": [
      " 54%|█████▍    | 769/1421 [00:19<00:24, 26.10it/s]"
     ]
    },
    {
     "name": "stdout",
     "output_type": "stream",
     "text": [
      "new user found\n"
     ]
    },
    {
     "name": "stderr",
     "output_type": "stream",
     "text": [
      " 56%|█████▌    | 797/1421 [00:20<00:17, 35.65it/s]"
     ]
    },
    {
     "name": "stdout",
     "output_type": "stream",
     "text": [
      "new user found\n"
     ]
    },
    {
     "name": "stderr",
     "output_type": "stream",
     "text": [
      " 59%|█████▉    | 843/1421 [00:20<00:10, 54.57it/s]"
     ]
    },
    {
     "name": "stdout",
     "output_type": "stream",
     "text": [
      "new user found\n",
      "new user found\n"
     ]
    },
    {
     "name": "stderr",
     "output_type": "stream",
     "text": [
      "\r",
      " 60%|██████    | 855/1421 [00:21<00:14, 39.13it/s]"
     ]
    },
    {
     "name": "stdout",
     "output_type": "stream",
     "text": [
      "new user found\n",
      "new user found\n"
     ]
    },
    {
     "name": "stderr",
     "output_type": "stream",
     "text": [
      " 62%|██████▏   | 883/1421 [00:21<00:14, 38.35it/s]"
     ]
    },
    {
     "name": "stdout",
     "output_type": "stream",
     "text": [
      "new user found\n"
     ]
    },
    {
     "name": "stderr",
     "output_type": "stream",
     "text": [
      "\r",
      " 63%|██████▎   | 901/1421 [00:22<00:12, 42.11it/s]"
     ]
    },
    {
     "name": "stdout",
     "output_type": "stream",
     "text": [
      "new user found\n"
     ]
    },
    {
     "name": "stderr",
     "output_type": "stream",
     "text": [
      "\r",
      " 64%|██████▍   | 910/1421 [00:22<00:13, 37.73it/s]"
     ]
    },
    {
     "name": "stdout",
     "output_type": "stream",
     "text": [
      "new user found\n"
     ]
    },
    {
     "name": "stderr",
     "output_type": "stream",
     "text": [
      "\r",
      " 65%|██████▍   | 917/1421 [00:22<00:15, 32.42it/s]"
     ]
    },
    {
     "name": "stdout",
     "output_type": "stream",
     "text": [
      "new user found\n"
     ]
    },
    {
     "name": "stderr",
     "output_type": "stream",
     "text": [
      "\r",
      " 65%|██████▍   | 923/1421 [00:22<00:18, 27.42it/s]"
     ]
    },
    {
     "name": "stdout",
     "output_type": "stream",
     "text": [
      "new user found\n"
     ]
    },
    {
     "name": "stderr",
     "output_type": "stream",
     "text": [
      "\r",
      " 65%|██████▌   | 928/1421 [00:23<00:19, 24.86it/s]"
     ]
    },
    {
     "name": "stdout",
     "output_type": "stream",
     "text": [
      "new user found\n"
     ]
    },
    {
     "name": "stderr",
     "output_type": "stream",
     "text": [
      "\r",
      " 66%|██████▌   | 938/1421 [00:23<00:18, 26.76it/s]"
     ]
    },
    {
     "name": "stdout",
     "output_type": "stream",
     "text": [
      "new user found\n"
     ]
    },
    {
     "name": "stderr",
     "output_type": "stream",
     "text": [
      "\r",
      " 67%|██████▋   | 949/1421 [00:23<00:15, 29.51it/s]"
     ]
    },
    {
     "name": "stdout",
     "output_type": "stream",
     "text": [
      "new user found\n",
      "error adding new user\n"
     ]
    },
    {
     "name": "stderr",
     "output_type": "stream",
     "text": [
      " 69%|██████▉   | 985/1421 [00:24<00:09, 45.30it/s]"
     ]
    },
    {
     "name": "stdout",
     "output_type": "stream",
     "text": [
      "new user found\n"
     ]
    },
    {
     "name": "stderr",
     "output_type": "stream",
     "text": [
      "\r",
      " 71%|███████   | 1002/1421 [00:24<00:08, 46.74it/s]"
     ]
    },
    {
     "name": "stdout",
     "output_type": "stream",
     "text": [
      "new user found\n",
      "new user found\n"
     ]
    },
    {
     "name": "stderr",
     "output_type": "stream",
     "text": [
      "\r",
      " 71%|███████   | 1010/1421 [00:25<00:14, 28.97it/s]"
     ]
    },
    {
     "name": "stdout",
     "output_type": "stream",
     "text": [
      "new user found\n"
     ]
    },
    {
     "name": "stderr",
     "output_type": "stream",
     "text": [
      "\r",
      " 72%|███████▏  | 1027/1421 [00:25<00:11, 33.50it/s]"
     ]
    },
    {
     "name": "stdout",
     "output_type": "stream",
     "text": [
      "new user found\n"
     ]
    },
    {
     "name": "stderr",
     "output_type": "stream",
     "text": [
      "\r",
      " 73%|███████▎  | 1038/1421 [00:25<00:11, 34.68it/s]"
     ]
    },
    {
     "name": "stdout",
     "output_type": "stream",
     "text": [
      "new user found\n"
     ]
    },
    {
     "name": "stderr",
     "output_type": "stream",
     "text": [
      " 75%|███████▌  | 1071/1421 [00:26<00:07, 47.87it/s]"
     ]
    },
    {
     "name": "stdout",
     "output_type": "stream",
     "text": [
      "new user found\n"
     ]
    },
    {
     "name": "stderr",
     "output_type": "stream",
     "text": [
      "\r",
      " 76%|███████▌  | 1082/1421 [00:26<00:07, 44.81it/s]"
     ]
    },
    {
     "name": "stdout",
     "output_type": "stream",
     "text": [
      "new user found\n"
     ]
    },
    {
     "name": "stderr",
     "output_type": "stream",
     "text": [
      " 78%|███████▊  | 1113/1421 [00:26<00:05, 56.09it/s]"
     ]
    },
    {
     "name": "stdout",
     "output_type": "stream",
     "text": [
      "new user found\n",
      "new user found\n",
      "new user found\n"
     ]
    },
    {
     "name": "stderr",
     "output_type": "stream",
     "text": [
      "\r",
      " 79%|███████▉  | 1124/1421 [00:27<00:10, 27.59it/s]"
     ]
    },
    {
     "name": "stdout",
     "output_type": "stream",
     "text": [
      "new user found\n"
     ]
    },
    {
     "name": "stderr",
     "output_type": "stream",
     "text": [
      " 81%|████████  | 1153/1421 [00:28<00:06, 40.49it/s]"
     ]
    },
    {
     "name": "stdout",
     "output_type": "stream",
     "text": [
      "new user found\n",
      "error adding new user\n"
     ]
    },
    {
     "name": "stderr",
     "output_type": "stream",
     "text": [
      "\r",
      " 82%|████████▏ | 1164/1421 [00:28<00:06, 38.18it/s]"
     ]
    },
    {
     "name": "stdout",
     "output_type": "stream",
     "text": [
      "new user found\n",
      "new user found\n"
     ]
    },
    {
     "name": "stderr",
     "output_type": "stream",
     "text": [
      "\r",
      " 83%|████████▎ | 1173/1421 [00:28<00:09, 26.85it/s]"
     ]
    },
    {
     "name": "stdout",
     "output_type": "stream",
     "text": [
      "new user found\n"
     ]
    },
    {
     "name": "stderr",
     "output_type": "stream",
     "text": [
      " 85%|████████▍ | 1201/1421 [00:29<00:06, 35.39it/s]"
     ]
    },
    {
     "name": "stdout",
     "output_type": "stream",
     "text": [
      "new user found\n"
     ]
    },
    {
     "name": "stderr",
     "output_type": "stream",
     "text": [
      " 87%|████████▋ | 1232/1421 [00:29<00:04, 45.22it/s]"
     ]
    },
    {
     "name": "stdout",
     "output_type": "stream",
     "text": [
      "new user found\n",
      "new user found\n"
     ]
    },
    {
     "name": "stderr",
     "output_type": "stream",
     "text": [
      "\r",
      " 87%|████████▋ | 1242/1421 [00:30<00:06, 26.56it/s]"
     ]
    },
    {
     "name": "stdout",
     "output_type": "stream",
     "text": [
      "new user found\n"
     ]
    },
    {
     "name": "stderr",
     "output_type": "stream",
     "text": [
      "\r",
      " 88%|████████▊ | 1250/1421 [00:30<00:06, 26.96it/s]"
     ]
    },
    {
     "name": "stdout",
     "output_type": "stream",
     "text": [
      "new user found\n"
     ]
    },
    {
     "name": "stderr",
     "output_type": "stream",
     "text": [
      "\r",
      " 88%|████████▊ | 1256/1421 [00:31<00:06, 25.28it/s]"
     ]
    },
    {
     "name": "stdout",
     "output_type": "stream",
     "text": [
      "new user found\n"
     ]
    },
    {
     "name": "stderr",
     "output_type": "stream",
     "text": [
      "\r",
      " 89%|████████▊ | 1261/1421 [00:31<00:06, 24.29it/s]"
     ]
    },
    {
     "name": "stdout",
     "output_type": "stream",
     "text": [
      "new user found\n",
      "error adding new user\n"
     ]
    },
    {
     "name": "stderr",
     "output_type": "stream",
     "text": [
      "\r",
      " 89%|████████▉ | 1270/1421 [00:31<00:05, 27.02it/s]"
     ]
    },
    {
     "name": "stdout",
     "output_type": "stream",
     "text": [
      "new user found\n",
      "error adding new user\n"
     ]
    },
    {
     "name": "stderr",
     "output_type": "stream",
     "text": [
      "\r",
      " 90%|████████▉ | 1275/1421 [00:31<00:06, 23.30it/s]"
     ]
    },
    {
     "name": "stdout",
     "output_type": "stream",
     "text": [
      "new user found\n"
     ]
    },
    {
     "name": "stderr",
     "output_type": "stream",
     "text": [
      " 92%|█████████▏| 1302/1421 [00:32<00:03, 34.66it/s]"
     ]
    },
    {
     "name": "stdout",
     "output_type": "stream",
     "text": [
      "new user found\n",
      "new user found\n"
     ]
    },
    {
     "name": "stderr",
     "output_type": "stream",
     "text": [
      "\r",
      " 92%|█████████▏| 1309/1421 [00:32<00:04, 24.02it/s]"
     ]
    },
    {
     "name": "stdout",
     "output_type": "stream",
     "text": [
      "new user found\n"
     ]
    },
    {
     "name": "stderr",
     "output_type": "stream",
     "text": [
      "\r",
      " 93%|█████████▎| 1320/1421 [00:33<00:03, 26.46it/s]"
     ]
    },
    {
     "name": "stdout",
     "output_type": "stream",
     "text": [
      "new user found\n"
     ]
    },
    {
     "name": "stderr",
     "output_type": "stream",
     "text": [
      "\r",
      " 93%|█████████▎| 1325/1421 [00:33<00:04, 23.85it/s]"
     ]
    },
    {
     "name": "stdout",
     "output_type": "stream",
     "text": [
      "new user found\n"
     ]
    },
    {
     "name": "stderr",
     "output_type": "stream",
     "text": [
      "\r",
      " 94%|█████████▍| 1335/1421 [00:33<00:03, 26.04it/s]"
     ]
    },
    {
     "name": "stdout",
     "output_type": "stream",
     "text": [
      "new user found\n"
     ]
    },
    {
     "name": "stderr",
     "output_type": "stream",
     "text": [
      " 96%|█████████▌| 1362/1421 [00:33<00:01, 36.51it/s]"
     ]
    },
    {
     "name": "stdout",
     "output_type": "stream",
     "text": [
      "new user found\n",
      "new user found\n"
     ]
    },
    {
     "name": "stderr",
     "output_type": "stream",
     "text": [
      " 98%|█████████▊| 1388/1421 [00:34<00:00, 36.63it/s]"
     ]
    },
    {
     "name": "stdout",
     "output_type": "stream",
     "text": [
      "new user found\n"
     ]
    },
    {
     "name": "stderr",
     "output_type": "stream",
     "text": [
      "\r",
      " 98%|█████████▊| 1398/1421 [00:34<00:00, 34.85it/s]"
     ]
    },
    {
     "name": "stdout",
     "output_type": "stream",
     "text": [
      "new user found\n"
     ]
    },
    {
     "name": "stderr",
     "output_type": "stream",
     "text": [
      "\r",
      " 99%|█████████▉| 1412/1421 [00:35<00:00, 37.52it/s]"
     ]
    },
    {
     "name": "stdout",
     "output_type": "stream",
     "text": [
      "new user found\n",
      "new user found\n"
     ]
    },
    {
     "name": "stderr",
     "output_type": "stream",
     "text": [
      "100%|██████████| 1421/1421 [00:35<00:00, 39.73it/s]"
     ]
    },
    {
     "name": "stdout",
     "output_type": "stream",
     "text": [
      "new user found\n"
     ]
    },
    {
     "name": "stderr",
     "output_type": "stream",
     "text": [
      "\n"
     ]
    }
   ],
   "source": [
    "add_users(user)"
   ]
  },
  {
   "cell_type": "code",
   "execution_count": 4,
   "metadata": {},
   "outputs": [
    {
     "name": "stderr",
     "output_type": "stream",
     "text": [
      "/usr/local/lib/python3.5/dist-packages/ipykernel_launcher.py:12: DeprecationWarning: collection_names is deprecated. Use list_collection_names instead.\n",
      "  if sys.path[0] == '':\n"
     ]
    },
    {
     "name": "stdout",
     "output_type": "stream",
     "text": [
      "Processing Users_Maria 1 / 4\n",
      "Processing Users_MiscNews 2 / 4\n",
      "Processing Users_Irma 3 / 4\n",
      "Processing Users_Florence 4 / 4\n"
     ]
    }
   ],
   "source": [
    "from pymongo import MongoClient\n",
    "from tqdm import tqdm\n",
    "import pandas as pd\n",
    "from pd_doc2vec import doc2vec\n",
    "\n",
    "\n",
    "\n",
    "client = MongoClient()\n",
    "client = MongoClient('da1.eecs.utk.edu', 27017) \n",
    "#Connects to the MongoDB, make sure youre SSH'ed into the docker\n",
    "\n",
    "collection_list = client['twitter'].collection_names() \n",
    "#Scrapes all the collection names from the Docker\n",
    "\n",
    "collection_list  = [x for x in collection_list if \"User\" in x]\n",
    "# looks at only collections with \"User\" in its name\n",
    "\n",
    "\n",
    "i =0\n",
    "sentimentdata = []\n",
    "for posts in (collection_list):\n",
    "    i = i+1\n",
    "    print(\"Processing\", posts, i, \"/\", str(len(collection_list)))\n",
    "    for post in client['twitter'][posts].find({'is_news': {\"$exists\": True}}):  \n",
    "        #Extracts all the entries with a sentiment field\n",
    "        post.update({\"Source\": str(posts)}) \n",
    "        #Updates each data with the name of the collection it comes from\n",
    "        sentimentdata.append(post) \n",
    "\n",
    "df = pd.DataFrame(sentimentdata)\n",
    "# pulls data into the Pandas DataFrame\n"
   ]
  },
  {
   "cell_type": "code",
   "execution_count": 5,
   "metadata": {},
   "outputs": [
    {
     "name": "stdout",
     "output_type": "stream",
     "text": [
      "False    1061\n",
      "True      318\n",
      "Name: is_news, dtype: int64\n"
     ]
    }
   ],
   "source": [
    "print(df.is_news.value_counts())"
   ]
  },
  {
   "cell_type": "code",
   "execution_count": 6,
   "metadata": {},
   "outputs": [
    {
     "name": "stdout",
     "output_type": "stream",
     "text": [
      "        Source                       _id  contributors_enabled  \\\n",
      "0  Users_Maria  5c082472ec4ee51849127e28                 False   \n",
      "\n",
      "           created_at  default_profile  default_profile_image  \\\n",
      "0 2011-02-08 23:11:23            False                  False   \n",
      "\n",
      "                                         description  \\\n",
      "0  Chief Meteorologist @notiseis360pr @wkaq580 @n...   \n",
      "\n",
      "                                            entities  favourites_count  \\\n",
      "0  {'description': {'urls': []}, 'url': {'urls': ...             48684   \n",
      "\n",
      "   follow_request_sent    ...     protected            retrieved_at  \\\n",
      "0                False    ...         False 2018-12-05 19:18:10.156   \n",
      "\n",
      "   screen_name                                             status  \\\n",
      "0    adamonzon  {'retweeted_status': {'extended_entities': {'m...   \n",
      "\n",
      "   statuses_count  time_zone translator_type                      url  \\\n",
      "0           50956       None            none  https://t.co/ouFQtm4KZA   \n",
      "\n",
      "   utc_offset  verified  \n",
      "0        None     False  \n",
      "\n",
      "[1 rows x 48 columns]\n"
     ]
    }
   ],
   "source": [
    "print(df.head(1))"
   ]
  },
  {
   "cell_type": "code",
   "execution_count": null,
   "metadata": {},
   "outputs": [],
   "source": []
  }
 ],
 "metadata": {
  "kernelspec": {
   "display_name": "Python 3",
   "language": "python",
   "name": "python3"
  },
  "language_info": {
   "codemirror_mode": {
    "name": "ipython",
    "version": 3
   },
   "file_extension": ".py",
   "mimetype": "text/x-python",
   "name": "python",
   "nbconvert_exporter": "python",
   "pygments_lexer": "ipython3",
   "version": "3.5.2"
  }
 },
 "nbformat": 4,
 "nbformat_minor": 2
}
