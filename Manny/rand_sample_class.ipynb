{
 "cells": [
  {
   "cell_type": "code",
   "execution_count": 1,
   "metadata": {},
   "outputs": [
    {
     "name": "stdout",
     "output_type": "stream",
     "text": [
      "['LabeledStatuses_Sandy_K', 'Users_Maria', 'Statuses_Maria_A', 'Users_MiscNews', 'Users_Irma', 'LabeledStatuses_Irma_A_', 'Statuses_Irma_C', 'LabeledStatuses_MiscTechCompanies_A_', 'Statuses_Florence_A', 'LabeledStatuses_Irma_C', 'Users_Florence', 'Misc_FilmReviews', 'Statuses_Florence_C', 'Statuses_Irma_A', 'Statuses_MiscPower_A', 'Geolocations_Irma', 'Statuses_Maria_C', 'LabeledStatuses_MiscTechCompanies_C', 'Statuses_MiscClimateChange_A', 'Users_MiscByCategory', 'LabeledStatuses_MiscRelevant_C', 'Statuses_Irma_K']\n"
     ]
    },
    {
     "name": "stderr",
     "output_type": "stream",
     "text": [
      "/usr/local/lib/python3.5/dist-packages/ipykernel_launcher.py:12: DeprecationWarning: collection_names is deprecated. Use list_collection_names instead.\n",
      "  if sys.path[0] == '':\n"
     ]
    }
   ],
   "source": [
    "from pymongo import MongoClient\n",
    "from tqdm import tqdm\n",
    "import pandas as pd\n",
    "from pd_doc2vec import doc2vec\n",
    "\n",
    "\n",
    "\n",
    "client = MongoClient()\n",
    "client = MongoClient('da1.eecs.utk.edu', 27017) \n",
    "#Connects to the MongoDB, make sure youre SSH'ed into the docker\n",
    "\n",
    "collection_list = client['twitter'].collection_names() \n",
    "#Scrapes all the collection names from the Docker\n",
    "print(collection_list)"
   ]
  },
  {
   "cell_type": "code",
   "execution_count": 2,
   "metadata": {},
   "outputs": [
    {
     "name": "stdout",
     "output_type": "stream",
     "text": [
      "['LabeledStatuses_Irma_A_', 'Statuses_Irma_C', 'Statuses_Florence_A', 'LabeledStatuses_Irma_C', 'Statuses_Florence_C', 'Statuses_Irma_A']\n"
     ]
    }
   ],
   "source": [
    "collection_list = [x for x in collection_list if \"Maria\" not in x and \"User\" not in x and  \"Geolocations\" not in x and \"Sandy\" not in x and \"Statuses\" in x and \"Tech\" not in x and \"Film\" not in x and \"Misc\" not in x  and \"User\" not in x and \"_K\" not in x   ] \n",
    "#Scrapes all the collection names from the Docker\n",
    "print(collection_list)"
   ]
  },
  {
   "cell_type": "code",
   "execution_count": 3,
   "metadata": {},
   "outputs": [
    {
     "name": "stderr",
     "output_type": "stream",
     "text": [
      "\r",
      "0it [00:00, ?it/s]"
     ]
    },
    {
     "name": "stdout",
     "output_type": "stream",
     "text": [
      "Processing LabeledStatuses_Irma_A_ 1 / 6\n"
     ]
    },
    {
     "name": "stderr",
     "output_type": "stream",
     "text": [
      "848it [00:00, 3565.68it/s]\n",
      "0it [00:00, ?it/s]"
     ]
    },
    {
     "name": "stdout",
     "output_type": "stream",
     "text": [
      "Processing Statuses_Irma_C 2 / 6\n"
     ]
    },
    {
     "name": "stderr",
     "output_type": "stream",
     "text": [
      "763964it [00:50, 15127.52it/s]\n",
      "0it [00:00, ?it/s]"
     ]
    },
    {
     "name": "stdout",
     "output_type": "stream",
     "text": [
      "Processing Statuses_Florence_A 3 / 6\n"
     ]
    },
    {
     "name": "stderr",
     "output_type": "stream",
     "text": [
      "24823it [00:08, 2968.74it/s]\n",
      "1000it [00:00, 22448.64it/s]\n",
      "0it [00:00, ?it/s]"
     ]
    },
    {
     "name": "stdout",
     "output_type": "stream",
     "text": [
      "Processing LabeledStatuses_Irma_C 4 / 6\n",
      "Processing Statuses_Florence_C 5 / 6\n"
     ]
    },
    {
     "name": "stderr",
     "output_type": "stream",
     "text": [
      "24286it [00:04, 5844.84it/s]\n",
      "0it [00:00, ?it/s]"
     ]
    },
    {
     "name": "stdout",
     "output_type": "stream",
     "text": [
      "Processing Statuses_Irma_A 6 / 6\n"
     ]
    },
    {
     "name": "stderr",
     "output_type": "stream",
     "text": [
      "556482it [02:51, 3243.12it/s]\n"
     ]
    }
   ],
   "source": [
    "i = 0\n",
    "sentimentdata = []\n",
    "for posts in (collection_list):\n",
    "    i = i+1\n",
    "    print(\"Processing\", posts, i, \"/\", str(len(collection_list)))\n",
    "    for post in tqdm(client['twitter'][posts].find({})):  #{'sentiment': {\"$exists\": True}}\n",
    "        #Extracts all the entries with a sentiment field\n",
    "        post.update({\"Source\": str(posts)}) \n",
    "        #Updates each data with the name of the collection it comes from\n",
    "        sentimentdata.append(post) "
   ]
  },
  {
   "cell_type": "code",
   "execution_count": 4,
   "metadata": {},
   "outputs": [
    {
     "name": "stdout",
     "output_type": "stream",
     "text": [
      "                    Source                       _id categories code  \\\n",
      "0  LabeledStatuses_Irma_A_  5bed635596c339521e3cf088        NaN    2   \n",
      "1  LabeledStatuses_Irma_A_  5bed635596c339521e3cf089        NaN    2   \n",
      "2  LabeledStatuses_Irma_A_  5bed635596c339521e3cf08a        NaN    4   \n",
      "\n",
      "   contributors coordinates          created_at  \\\n",
      "0           NaN        None 2017-09-11 11:20:21   \n",
      "1           NaN        None 2017-09-11 06:10:46   \n",
      "2           NaN        None 2017-09-11 00:25:45   \n",
      "\n",
      "                                            entities  \\\n",
      "0  {'symbols': [], 'urls': [], 'user_mentions': [...   \n",
      "1  {'symbols': [], 'urls': [], 'user_mentions': [...   \n",
      "2  {'symbols': [], 'urls': [], 'user_mentions': [...   \n",
      "\n",
      "                                      extended_tweet  favorite_count  \\\n",
      "0  {'display_text_range': [11, 81], 'full_text': ...             0.0   \n",
      "1  {'display_text_range': [0, 119], 'full_text': ...             0.0   \n",
      "2  {'display_text_range': [11, 58], 'full_text': ...             0.0   \n",
      "\n",
      "           ...          retweet_count retweeted  retweeted_status scopes  \\\n",
      "0          ...                    0.0     False               NaN    NaN   \n",
      "1          ...                    0.0     False               NaN    NaN   \n",
      "2          ...                    0.0     False               NaN    NaN   \n",
      "\n",
      "                                              source  tags  \\\n",
      "0  <a href=\"http://twitter.com/download/iphone\" r...   NaN   \n",
      "1  <a href=\"http://twitter.com/download/iphone\" r...   NaN   \n",
      "2  <a href=\"http://twitter.com/download/iphone\" r...   NaN   \n",
      "\n",
      "                                                text  truncated  \\\n",
      "0  @insideFPL I don't even know why my power went...      False   \n",
      "1  Sweating worse than a day at Disney. #hurrican...      False   \n",
      "2  @insideFPL miami gardens, florida 33056 ! we n...      False   \n",
      "\n",
      "                                                user withheld_in_countries  \n",
      "0  {'entities': {'description': {'urls': []}}, 'p...                   NaN  \n",
      "1  {'entities': {'description': {'urls': []}}, 'p...                   NaN  \n",
      "2  {'entities': {'url': {'urls': [{'url': 'https:...                   NaN  \n",
      "\n",
      "[3 rows x 42 columns]\n"
     ]
    }
   ],
   "source": [
    "        \n",
    "df = pd.DataFrame(sentimentdata)\n",
    "# pulls data into the Pandas DataFrame\n",
    "\n",
    "print(df.head(3))"
   ]
  },
  {
   "cell_type": "code",
   "execution_count": 5,
   "metadata": {},
   "outputs": [
    {
     "name": "stderr",
     "output_type": "stream",
     "text": [
      "  0%|          | 0/50 [00:00<?, ?it/s]/usr/local/lib/python3.5/dist-packages/gensim/matutils.py:737: FutureWarning: Conversion of the second argument of issubdtype from `int` to `np.signedinteger` is deprecated. In future, it will be treated as `np.int64 == np.dtype(int).type`.\n",
      "  if np.issubdtype(vec.dtype, np.int):\n",
      "100%|██████████| 50/50 [00:00<00:00, 68.57it/s]\n",
      "/home/nwest13/Curent/Manny/pd_doc2vec.py:106: SettingWithCopyWarning: \n",
      "A value is trying to be set on a copy of a slice from a DataFrame.\n",
      "Try using .loc[row_indexer,col_indexer] = value instead\n",
      "\n",
      "See the caveats in the documentation: http://pandas.pydata.org/pandas-docs/stable/indexing.html#indexing-view-versus-copy\n",
      "  test['results'] = self.predict(test[X])\n"
     ]
    },
    {
     "name": "stdout",
     "output_type": "stream",
     "text": [
      "Accuracy Score:  0.74\n",
      "Label Score:  [0.8395061728395061, 0.3157894736842105]\n"
     ]
    },
    {
     "name": "stderr",
     "output_type": "stream",
     "text": [
      "100%|██████████| 50/50 [00:00<00:00, 65.67it/s]\n"
     ]
    },
    {
     "name": "stdout",
     "output_type": "stream",
     "text": [
      "Accuracy Score:  0.7\n",
      "Label Score:  [0.761904761904762, 0.5945945945945946]\n"
     ]
    },
    {
     "data": {
      "text/plain": [
       "[[0.761904761904762, 0.5945945945945946], 0.7]"
      ]
     },
     "execution_count": 5,
     "metadata": {},
     "output_type": "execute_result"
    }
   ],
   "source": [
    "from tqdm import tqdm\n",
    "import pandas as pd\n",
    "from pd_doc2vec import doc2vec\n",
    "\n",
    "emoset = pd.read_csv(\"987.csv\")\n",
    "emoset.fillna(0, inplace=True)\n",
    "emoset = emoset.applymap(str)\n",
    "emoset = emoset[emoset.Opinion != \"\\n\"]\n",
    "\n",
    "\n",
    "x = doc2vec(emoset, \"Tweet\", [\"Opinion\",  \"Emotion\", 'Sarcasm', 'Sentiment', 'Emotion class'])\n",
    "\n",
    "\n",
    "x.score(verbose=True)\n",
    "\n",
    "\n",
    "\n",
    "x2 = doc2vec(emoset, \"Tweet\", [\"Emotion\",  \"Opinion\", 'Sarcasm', 'Sentiment', 'Emotion class'])\n",
    "\n",
    "\n",
    "x2.score(verbose=True)\n"
   ]
  },
  {
   "cell_type": "code",
   "execution_count": 6,
   "metadata": {},
   "outputs": [],
   "source": [
    "df.to_csv(\"corpus_rand.csv\", index=False)"
   ]
  },
  {
   "cell_type": "code",
   "execution_count": 7,
   "metadata": {},
   "outputs": [],
   "source": [
    "df = df.sample(5000)"
   ]
  },
  {
   "cell_type": "code",
   "execution_count": 8,
   "metadata": {},
   "outputs": [
    {
     "name": "stderr",
     "output_type": "stream",
     "text": [
      "  0%|          | 0/5000 [00:00<?, ?it/s]/usr/local/lib/python3.5/dist-packages/gensim/matutils.py:737: FutureWarning: Conversion of the second argument of issubdtype from `int` to `np.signedinteger` is deprecated. In future, it will be treated as `np.int64 == np.dtype(int).type`.\n",
      "  if np.issubdtype(vec.dtype, np.int):\n",
      "100%|██████████| 5000/5000 [00:30<00:00, 165.09it/s]\n",
      "100%|██████████| 5000/5000 [00:31<00:00, 160.51it/s]\n"
     ]
    }
   ],
   "source": [
    "df[\"emotion_ml\"] = x.predict(df[\"text\"])\n",
    "df[\"opinion_ml\"] = x2.predict(df[\"text\"])\n"
   ]
  },
  {
   "cell_type": "code",
   "execution_count": 9,
   "metadata": {},
   "outputs": [],
   "source": [
    "df.to_csv(\"corpus_sample.csv\", index=False)"
   ]
  },
  {
   "cell_type": "code",
   "execution_count": null,
   "metadata": {},
   "outputs": [],
   "source": []
  }
 ],
 "metadata": {
  "kernelspec": {
   "display_name": "Python 3",
   "language": "python",
   "name": "python3"
  },
  "language_info": {
   "codemirror_mode": {
    "name": "ipython",
    "version": 3
   },
   "file_extension": ".py",
   "mimetype": "text/x-python",
   "name": "python",
   "nbconvert_exporter": "python",
   "pygments_lexer": "ipython3",
   "version": "3.5.2"
  }
 },
 "nbformat": 4,
 "nbformat_minor": 2
}
