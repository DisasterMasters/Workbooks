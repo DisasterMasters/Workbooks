{
 "cells": [
  {
   "cell_type": "code",
   "execution_count": 1,
   "metadata": {},
   "outputs": [],
   "source": [
    "import pandas as pd\n",
    "import numpy as np\n",
    "\n",
    "import hashlib\n",
    "\n",
    "from pprint import pprint"
   ]
  },
  {
   "cell_type": "code",
   "execution_count": 2,
   "metadata": {},
   "outputs": [],
   "source": [
    "def overlapping_code(c1, c2):\n",
    "    for c in c1:\n",
    "        if c in c2:\n",
    "            return c\n",
    "    return -1\n",
    "\n",
    "\n",
    "def hash_texts(texts):\n",
    "    hash_text = []\n",
    "    for t in texts:\n",
    "        hash_object = hashlib.md5(t.encode())\n",
    "        hash_val = hash_object.hexdigest()\n",
    "        hash_text.append(hash_val)\n",
    "        #print(hash_val)\n",
    "    return hash_text"
   ]
  },
  {
   "cell_type": "code",
   "execution_count": 3,
   "metadata": {},
   "outputs": [],
   "source": [
    "old_xlsx = pd.ExcelFile('data/SMC_disagreement.xlsx')\n",
    "new_xlsx = pd.ExcelFile('data/Superior Manual Coding (SMC).xlsx')"
   ]
  },
  {
   "cell_type": "code",
   "execution_count": 16,
   "metadata": {},
   "outputs": [
    {
     "data": {
      "text/plain": [
       "['Coded',\n",
       " 'coder1_Julian',\n",
       " 'coder2_Alexa',\n",
       " 'coder3_Jonathan',\n",
       " 'coder4_hannah',\n",
       " 'coder5_nick',\n",
       " 'coder6_Rus',\n",
       " 'coder7_Paige',\n",
       " 'coder8_Gregory',\n",
       " 'coderTrainingSheet',\n",
       " 'Master',\n",
       " 'UserDB']"
      ]
     },
     "execution_count": 16,
     "metadata": {},
     "output_type": "execute_result"
    }
   ],
   "source": [
    "# reading xlsx\n",
    "xlsx_file = new_xlsx\n",
    "\n",
    "xlsx_file.sheet_names"
   ]
  },
  {
   "cell_type": "code",
   "execution_count": 17,
   "metadata": {},
   "outputs": [],
   "source": [
    "hannah_df = pd.read_excel(xlsx_file, 'coder4_hannah')\n",
    "nick_df = pd.read_excel(xlsx_file, 'coder5_nick')"
   ]
  },
  {
   "cell_type": "code",
   "execution_count": 18,
   "metadata": {},
   "outputs": [],
   "source": [
    "hannah_df = hannah_df[['Text', 'Code_1', 'Code_2', '*Code_1*', '*Code_2*']]\n",
    "nick_df = nick_df[['Text', 'Code_1', 'Code_2', '*Code_1*', '*Code_2*']]"
   ]
  },
  {
   "cell_type": "code",
   "execution_count": 19,
   "metadata": {},
   "outputs": [
    {
     "name": "stdout",
     "output_type": "stream",
     "text": [
      "Index(['Text', 'Code_1', 'Code_2', '*Code_1*', '*Code_2*'], dtype='object')\n",
      "Index(['Text', 'Code_1', 'Code_2', '*Code_1*', '*Code_2*'], dtype='object')\n"
     ]
    }
   ],
   "source": [
    "print(hannah_df.columns)\n",
    "print(nick_df.columns)"
   ]
  },
  {
   "cell_type": "code",
   "execution_count": 20,
   "metadata": {},
   "outputs": [],
   "source": [
    "# remove nan\n",
    "\n",
    "hannah_df.dropna(thresh=4, inplace=True)\n",
    "nick_df.dropna(thresh=4, inplace=True)"
   ]
  },
  {
   "cell_type": "code",
   "execution_count": 21,
   "metadata": {},
   "outputs": [
    {
     "name": "stdout",
     "output_type": "stream",
     "text": [
      "5004\n",
      "5820\n"
     ]
    }
   ],
   "source": [
    "# hash text\n",
    "\n",
    "hash_text_han = hash_texts(hannah_df['Text'].values)\n",
    "hash_text_nick = hash_texts(nick_df['Text'].values)\n",
    "\n",
    "hannah_df['hash_text'] = hash_text_han\n",
    "nick_df['hash_text'] = hash_text_nick\n",
    "\n",
    "print(len(hash_text_han))\n",
    "print(len(hash_text_nick))"
   ]
  },
  {
   "cell_type": "code",
   "execution_count": 22,
   "metadata": {},
   "outputs": [],
   "source": [
    "# convert to dict for fast processing\n",
    "\n",
    "dict_han = {}\n",
    "for index, row in hannah_df.iterrows():\n",
    "    dict_han[row['hash_text']] = row[['Text', 'Code_1', 'Code_2', '*Code_1*', '*Code_2*']].to_dict()\n",
    "    \n",
    "dict_nick = {}\n",
    "for index, row in nick_df.iterrows():\n",
    "    dict_nick[row['hash_text']] = row[['Text', 'Code_1', 'Code_2', '*Code_1*', '*Code_2*']].to_dict()"
   ]
  },
  {
   "cell_type": "code",
   "execution_count": 23,
   "metadata": {},
   "outputs": [
    {
     "data": {
      "text/plain": [
       "2478"
      ]
     },
     "execution_count": 23,
     "metadata": {},
     "output_type": "execute_result"
    }
   ],
   "source": [
    "# count overlapping\n",
    "\n",
    "count = 0\n",
    "for index, row in nick_df.iterrows():\n",
    "    text = row['hash_text']\n",
    "    try:\n",
    "        temp = dict_han[text]['Text']\n",
    "        count = count + 1\n",
    "    except:\n",
    "        pass\n",
    "    \n",
    "count"
   ]
  },
  {
   "cell_type": "code",
   "execution_count": 24,
   "metadata": {},
   "outputs": [
    {
     "data": {
      "text/plain": [
       "2478"
      ]
     },
     "execution_count": 24,
     "metadata": {},
     "output_type": "execute_result"
    }
   ],
   "source": [
    "# make a new dict, combine overlapping codes\n",
    "\n",
    "combine_dict = {}\n",
    "\n",
    "for key in dict_nick.keys():\n",
    "    temp = {}\n",
    "    try:\n",
    "        hann_code = dict_han[key]\n",
    "        nick_code = dict_nick[key]\n",
    "        for k in dict_han[key]:\n",
    "            temp[\"{}_{}\".format(k, 'hannah')] = hann_code[k]\n",
    "        for k in dict_nick[key]:\n",
    "            temp[\"{}_{}\".format(k, 'nick')] = nick_code[k]\n",
    "        combine_dict[key] = temp\n",
    "    except:\n",
    "        pass\n",
    "    \n",
    "len(combine_dict)"
   ]
  },
  {
   "cell_type": "code",
   "execution_count": 25,
   "metadata": {},
   "outputs": [
    {
     "name": "stdout",
     "output_type": "stream",
     "text": [
      "{'*Code_1*_hannah': '-',\n",
      " '*Code_1*_nick': 2,\n",
      " '*Code_2*_hannah': 22,\n",
      " '*Code_2*_nick': 20,\n",
      " 'Code_1_hannah': 2,\n",
      " 'Code_1_nick': 11,\n",
      " 'Code_2_hannah': 20,\n",
      " 'Code_2_nick': 23,\n",
      " 'Text_hannah': 'Steady line into Sessums Elem. where Red Cross volunteer says '\n",
      "                'shelter capacity is approx 1,500. About 800 already here. '\n",
      "                '@10NewsWTSP   pic.twitter.com/dVtvgeS7Ud',\n",
      " 'Text_nick': 'Steady line into Sessums Elem. where Red Cross volunteer says '\n",
      "              'shelter capacity is approx 1,500. About 800 already here. '\n",
      "              '@10NewsWTSP   pic.twitter.com/dVtvgeS7Ud'}\n"
     ]
    }
   ],
   "source": [
    "pprint(combine_dict['002b0f22df7e624e39a7240b1d7a0209'])"
   ]
  },
  {
   "cell_type": "code",
   "execution_count": 26,
   "metadata": {},
   "outputs": [],
   "source": [
    "combine_df = pd.DataFrame(combine_dict).transpose()"
   ]
  },
  {
   "cell_type": "code",
   "execution_count": 27,
   "metadata": {},
   "outputs": [],
   "source": [
    "# combine_df.to_csv('data/combine_nick_hanna_v2.csv')"
   ]
  }
 ],
 "metadata": {
  "kernelspec": {
   "display_name": "Python 3",
   "language": "python",
   "name": "python3"
  },
  "language_info": {
   "codemirror_mode": {
    "name": "ipython",
    "version": 3
   },
   "file_extension": ".py",
   "mimetype": "text/x-python",
   "name": "python",
   "nbconvert_exporter": "python",
   "pygments_lexer": "ipython3",
   "version": "3.6.7"
  }
 },
 "nbformat": 4,
 "nbformat_minor": 2
}
