{
 "cells": [
  {
   "cell_type": "code",
   "execution_count": 1,
   "metadata": {},
   "outputs": [],
   "source": [
    "import pandas as pd\n",
    "import numpy as np\n",
    "\n",
    "def get_code1(df,label, inplace=True):\n",
    "    df[label].dropna(inplace=True)\n",
    "    df[label] = df[label].astype('int32')\n",
    "    df.replace({label: {5:6, 16:11, 14:15, 17:18}}, inplace=inplace)\n",
    "    df = df[df[label] <= 19]\n",
    "    return df\n",
    "    \n",
    "def get_code2(df,label, inplace=True):\n",
    "    df[label].dropna(inplace=True)\n",
    "    df[label] = df[label].astype('int32')\n",
    "    df.replace({label: {27:26, 28:26}}, inplace=inplace)\n",
    "    df = df[df[label] > 19]\n",
    "    return df\n",
    "\n",
    "# for each cat in labelp, change all of them to it corresponds labels \n",
    "def flip_cat(df, labelp, labels, cat=18):\n",
    "    temp = df[(df[labelp]==cat) & (df[labels]!='-')]\n",
    "    df = df[((df[labelp]==cat)&(df[labels]=='-')) | (df[labelp]!=cat)]\n",
    "    l = temp[labels]\n",
    "    temp[labelp] = temp[labels]\n",
    "    temp[labels] = l\n",
    "    df = df.append(temp)\n",
    "    return df\n",
    "    \n",
    "def remove_from_df(df, label, l):\n",
    "    for val in l:\n",
    "        df = df[df[label]!=val]\n",
    "    return df\n",
    "        \n",
    "def lower_case(df, label):\n",
    "    df[label] = df[label].str.lower()\n",
    "    return df\n",
    "\n",
    "def upper_case(df, label):\n",
    "    df[label] = df[label].str.upper()\n",
    "    return df\n",
    "\n",
    "def remove_dup(df, label=None):\n",
    "    if label == None:\n",
    "        df[\"is_duplicate\"]= df.duplicated()\n",
    "        df = df[df[\"is_duplicate\"]==False]\n",
    "    else:\n",
    "        df[\"is_duplicate\"]= df[label].duplicated()\n",
    "        df = df[df[\"is_duplicate\"]==False]\n",
    "    return df"
   ]
  },
  {
   "cell_type": "code",
   "execution_count": 5,
   "metadata": {},
   "outputs": [
    {
     "data": {
      "text/plain": [
       "Index(['Unnamed: 0', '*Code_1*', '*Code_2*', 'COMPLETED', 'Cleaned_Text',\n",
       "       'Code_1', 'Code_2', 'Collection', 'DISCUSS', 'Date', 'Emotion',\n",
       "       'Object_ID', 'Opinion', 'REVIEWED', 'Relevance', 'Sarcastic',\n",
       "       'Sentiment', 'Text', 'Tweet_id'],\n",
       "      dtype='object')"
      ]
     },
     "execution_count": 5,
     "metadata": {},
     "output_type": "execute_result"
    }
   ],
   "source": [
    "df = pd.read_excel('latestV7.xlsx')\n",
    "df.columns"
   ]
  },
  {
   "cell_type": "code",
   "execution_count": 6,
   "metadata": {},
   "outputs": [
    {
     "name": "stderr",
     "output_type": "stream",
     "text": [
      "/usr/local/lib/python3.6/dist-packages/ipykernel_launcher.py:23: SettingWithCopyWarning: \n",
      "A value is trying to be set on a copy of a slice from a DataFrame.\n",
      "Try using .loc[row_indexer,col_indexer] = value instead\n",
      "\n",
      "See the caveats in the documentation: http://pandas.pydata.org/pandas-docs/stable/user_guide/indexing.html#returning-a-view-versus-a-copy\n",
      "/usr/local/lib/python3.6/dist-packages/ipykernel_launcher.py:24: SettingWithCopyWarning: \n",
      "A value is trying to be set on a copy of a slice from a DataFrame.\n",
      "Try using .loc[row_indexer,col_indexer] = value instead\n",
      "\n",
      "See the caveats in the documentation: http://pandas.pydata.org/pandas-docs/stable/user_guide/indexing.html#returning-a-view-versus-a-copy\n"
     ]
    }
   ],
   "source": [
    "df = remove_from_df(df,'Code_1',['-',' ', 9999])\n",
    "\n",
    "df = get_code1(df, 'Code_1')\n",
    "\n",
    "df = flip_cat(df, 'Code_1', '*Code_1*')\n",
    "\n",
    "df = get_code1(df, 'Code_1')\n",
    "\n",
    "df = lower_case(df, 'Text')\n",
    "\n",
    "df = remove_dup(df, 'Text')"
   ]
  },
  {
   "cell_type": "code",
   "execution_count": 7,
   "metadata": {},
   "outputs": [
    {
     "name": "stdout",
     "output_type": "stream",
     "text": [
      "7922\n"
     ]
    },
    {
     "data": {
      "text/plain": [
       "9     1347\n",
       "18    1250\n",
       "1     1089\n",
       "8      657\n",
       "11     565\n",
       "15     555\n",
       "3      514\n",
       "6      481\n",
       "7      443\n",
       "2      442\n",
       "19     294\n",
       "12     245\n",
       "4       26\n",
       "13      14\n",
       "Name: Code_1, dtype: int64"
      ]
     },
     "execution_count": 7,
     "metadata": {},
     "output_type": "execute_result"
    }
   ],
   "source": [
    "print(len(df))\n",
    "df['Code_1'].value_counts()"
   ]
  },
  {
   "cell_type": "code",
   "execution_count": 8,
   "metadata": {},
   "outputs": [],
   "source": [
    "#df.to_excel('latestV7_pro.xlsx')"
   ]
  },
  {
   "cell_type": "code",
   "execution_count": null,
   "metadata": {},
   "outputs": [],
   "source": []
  }
 ],
 "metadata": {
  "kernelspec": {
   "display_name": "Python 3",
   "language": "python",
   "name": "python3"
  },
  "language_info": {
   "codemirror_mode": {
    "name": "ipython",
    "version": 3
   },
   "file_extension": ".py",
   "mimetype": "text/x-python",
   "name": "python",
   "nbconvert_exporter": "python",
   "pygments_lexer": "ipython3",
   "version": "3.6.7"
  }
 },
 "nbformat": 4,
 "nbformat_minor": 2
}
